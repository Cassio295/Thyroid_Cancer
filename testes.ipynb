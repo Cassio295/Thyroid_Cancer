{
 "cells": [
  {
   "cell_type": "code",
   "execution_count": 1,
   "metadata": {},
   "outputs": [],
   "source": [
    "import nltk as n \n",
    "import spacy\n",
    "from nltk import RegexpTokenizer\n",
    "texto = open('Memórias-Postumas-de-Brás-Cubas-PDF.txt', 'r', encoding = 'utf-8').read()\n",
    "\n",
    "tokenizer = RegexpTokenizer(r'\\w+')\n",
    "tokens = tokenizer.tokenize(texto)"
   ]
  },
  {
   "cell_type": "code",
   "execution_count": 2,
   "metadata": {},
   "outputs": [],
   "source": [
    "# removendo as stopwords do texto\n",
    "from nltk.corpus import stopwords \n",
    "stop = stopwords.words('portuguese')\n",
    "texto_sem_stpo = [token for token in tokens if token not in stop]"
   ]
  },
  {
   "cell_type": "code",
   "execution_count": 3,
   "metadata": {},
   "outputs": [
    {
     "name": "stdout",
     "output_type": "stream",
     "text": [
      "69620\n",
      "40345\n"
     ]
    }
   ],
   "source": [
    "print(len(tokens))\n",
    "print(len(texto_sem_stpo))"
   ]
  },
  {
   "cell_type": "markdown",
   "metadata": {},
   "source": [
    "Escolha um corpus qualquer e usando as funções do NLTK faça:\n",
    "a extraia todos os bigramas do corpus\n",
    "b extraia todos os trigramas do corpus\n",
    "c extraia todos os 4-gramas do corpus\n",
    "d retorne as entidades nomeasas do corpus, usando os bigramas e trigramas\n",
    "e escolha 3 palavras do seu corpus e faça o stemming delas\n",
    "f separe uma sentença do seu corpus e retorne todas as classes gramaticais das \n",
    "palavras da sentença. Analise se o etiquetador acertou todas as classes gramaticais\n",
    "g retorne as entidades nomeadas do seu corpus"
   ]
  },
  {
   "cell_type": "code",
   "execution_count": 7,
   "metadata": {},
   "outputs": [],
   "source": [
    "from nltk import bigrams, trigrams, ngrams \n",
    "bigramas = list(bigrams(texto_sem_stpo))\n",
    "trigramas = list(trigrams(texto_sem_stpo))\n",
    "n_gramas = list(ngrams(texto_sem_stpo, 4))\n"
   ]
  },
  {
   "cell_type": "code",
   "execution_count": null,
   "metadata": {},
   "outputs": [],
   "source": [
    "\n",
    "from nltk.tag.stanford import StanfordNERTagger\n",
    "ner = StanfordNERTagger('pt_crf')"
   ]
  }
 ],
 "metadata": {
  "kernelspec": {
   "display_name": "Python 3",
   "language": "python",
   "name": "python3"
  },
  "language_info": {
   "codemirror_mode": {
    "name": "ipython",
    "version": 3
   },
   "file_extension": ".py",
   "mimetype": "text/x-python",
   "name": "python",
   "nbconvert_exporter": "python",
   "pygments_lexer": "ipython3",
   "version": "3.11.2"
  }
 },
 "nbformat": 4,
 "nbformat_minor": 2
}
