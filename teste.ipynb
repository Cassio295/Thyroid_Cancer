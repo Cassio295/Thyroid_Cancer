{
 "cells": [
  {
   "cell_type": "code",
   "execution_count": 56,
   "metadata": {},
   "outputs": [],
   "source": [
    "arquivo = open('corpus', 'r')\n",
    "texto = arquivo.read()"
   ]
  },
  {
   "cell_type": "code",
   "execution_count": 57,
   "metadata": {},
   "outputs": [],
   "source": [
    "import nltk  \n",
    "from nltk.tokenize import RegexpTokenizer\n",
    "from nltk.corpus import stopwords\n",
    "\n",
    "# nltk.download('portuguese')\n",
    "\n",
    "tokenizer = RegexpTokenizer(r'\\w+')\n",
    "tokens = tokenizer.tokenize(texto)\n",
    "stop = stopwords.words('portuguese')\n",
    "setencas = [t for t in tokens if not t.lower() in stop]"
   ]
  },
  {
   "cell_type": "code",
   "execution_count": null,
   "metadata": {},
   "outputs": [],
   "source": []
  },
  {
   "cell_type": "code",
   "execution_count": 50,
   "metadata": {},
   "outputs": [
    {
     "name": "stdout",
     "output_type": "stream",
     "text": [
      "[('jardas', 15), ('Giants', 11), ('Patriots', 10), ('Manning', 10), ('linha', 10), ('Ã', 9), ('avanÃ', 8), ('bola', 7), ('vez', 6), ('zone', 6), ('New', 5), ('passe', 5), ('York', 5), ('Brady', 5), ('Super', 4), ('Bowl', 4), ('England', 4), ('tÃ', 4), ('Eli', 4), ('segundos', 4), ('fim', 4), ('touchdown', 4), ('time', 4), ('Nova', 4), ('nÃ', 4), ('jogo', 4), ('achou', 4), ('end', 4), ('tulo', 3), ('39', 3), ('17', 3), ('histÃ³ria', 3), ('m', 3), ('primeira', 3), ('chegou', 3), ('aram', 3), ('posse', 3), ('passes', 3), ('curtos', 3), ('red', 3), ('campanha', 3), ('ataque', 3), ('perÃ', 3), ('odo', 3), ('XLII', 2), ('temporada', 2), ('04', 2), ('02', 2), ('2008', 2), ('Plaxico', 2), ('Burress', 2), ('anotou', 2), ('14', 2), ('Tom', 2), ('companhia', 2), ('fazer', 2), ('NFL', 2), ('ano', 2), ('vitÃ³ria', 2), ('porÃ', 2), ('irmÃ', 2), ('mÃ', 2), ('ximo', 2), ('comeÃ', 2), ('logo', 2), ('field', 2), ('goal', 2), ('32', 2), ('entrou', 2), ('Maroney', 2), ('deixando', 2), ('chegaram', 2), ('seguinte', 2), ('Amani', 2), ('Toomer', 2), ('novamente', 2), ('s', 2), ('Steve', 2), ('Smith', 2), ('soltou', 2), ('dois', 2), ('cometeu', 2), ('fumble', 2), ('voltou', 2), ('pontuar', 2), ('chance', 2), ('tentou', 2), ('conseguiu', 2), ('jogada', 2), ('Kevin', 2), ('incrÃ', 2), ('vel', 2), ('lanÃ', 2), ('atÃ', 2), ('jogadas', 2), ('Moss', 2), ('batem', 1), ('AzarÃµes', 1), ('acabam', 1), ('invencibilidade', 1), ('ficam', 1), ('01h07m', 1), ('Atualizado', 1), ('09h49m', 1), ('decisivo', 1), ('derrubou', 1), ('favorito', 1), ('neste', 1), ('domingo', 1), ('Glendale', 1), ('resultado', 1), ('maiores', 1), ('zebras', 1), ('acabou', 1), ('perfeita', 1), ('esperavam', 1), ('levantar', 1), ('trofÃ', 1), ('u', 1), ('sofrer', 1), ('derrota', 1), ('tambÃ', 1), ('ficarÃ', 1), ('quarterbacks', 1), ('triunfam', 1), ('temporadas', 1), ('consecutivas', 1), ('passado', 1), ('Peyton', 1), ('Indianapolis', 1), ('Colts', 1), ('partida', 1), ('mostraram', 1), ('iriam', 1), ('alongar', 1), ('posses', 1), ('Misturando', 1), ('corridas', 1), ('Brandon', 1), ('Jacobs', 1), ('entanto', 1), ('parou', 1), ('Lawrence', 1), ('Tynes', 1), ('converteu', 1), ('abrir', 1), ('placar', 1), ('ficaram', 1), ('9m54s', 1), ('campo', 1), ('frio', 1), ('Logo', 1), ('retorno', 1), ('kickoff', 1), ('running', 1), ('back', 1), ('Laurence', 1), ('43', 1), ('boa', 1), ('posiÃ', 1), ('graÃ', 1), ('penalidade', 1), ('interferÃªncia', 1), ('linebacker', 1), ('Antonio', 1), ('Pierce', 1), ('alcanÃ', 1), ('jarda', 1), ('chÃ', 1), ('primeiro', 1), ('pareciam', 1), ('rumo', 1), ('virada', 1), ('38', 1), ('sofreram', 1), ('revÃ', 1), ('passou', 1), ('Ellis', 1), ('Hobbs', 1), ('aproveitou', 1), ('tomou', 1), ('23', 1), ('defesa', 1), ('manteve', 1), ('equilibrado', 1), ('sacks', 1), ('seguidos', 1), ('forÃ', 1), ('punt', 1), ('recuperaram', 1), ('provou', 1), ('outra', 1), ('decepÃ', 1), ('25', 1), ('sofreu', 1), ('sack', 1), ('conseguindo', 1), ('Ãºltima', 1), ('marcar', 1), ('antes', 1), ('intervalo', 1), ('22', 1), ('segundo', 1), ('sacado', 1), ('Desta', 1), ('tomaram', 1), ('longo', 1), ('50', 1), ('Ãºltimos', 1), ('sucesso', 1), ('continuou', 1), ('amarrado', 1), ('terceiro', 1), ('quarto', 1), ('defesas', 1), ('levando', 1), ('melhor', 1), ('sobre', 1), ('ataques', 1), ('Ãºnica', 1), ('31', 1), ('cnico', 1), ('Bill', 1), ('Bellichick', 1), ('optou', 1), ('quarta', 1), ('descida', 1), ('Jabar', 1), ('Gaffney', 1), ('completar', 1), ('Ãºltimo', 1), ('arrasador', 1), ('tight', 1), ('Boss', 1), ('45', 1), ('deixou', 1), ('35', 1), ('Outro', 1), ('amento', 1), ('desta', 1), ('marcou', 1), ('12', 1), ('Duas', 1), ('David', 1), ('Tyree', 1), ('pegou', 1), ('cinco', 1), ('anotar', 1), ('virar', 1), ('hora', 1), ('decisÃ', 1), ('funcionar', 1), ('sÃ', 1), ('rie', 1), ('variados', 1), ('Wes', 1), ('Welker', 1), ('Randy', 1), ('Faulk', 1), ('seguidas', 1), ('vezes', 1), ('chegar', 1), ('2m45s', 1), ('quarterback', 1), ('conectou', 1), ('desmarcou', 1), ('ficou', 1), ('livre', 1), ('lateral', 1), ('direita', 1), ('fÃ', 1), ('jÃ', 1), ('comemoravam', 1), ('inesperado', 1), ('aconteceu', 1), ('marcadores', 1), ('seguravam', 1), ('camisa', 1), ('corrida', 1), ('wide', 1), ('receiver', 1), ('bem', 1), ('marcado', 1), ('saltou', 1), ('recepÃ', 1), ('24', 1), ('Quatro', 1), ('conseguir', 1)]\n"
     ]
    }
   ],
   "source": [
    "frequencia = nltk.FreqDist(setencas)\n",
    "print(frequencia.most_common())\n"
   ]
  },
  {
   "cell_type": "code",
   "execution_count": null,
   "metadata": {},
   "outputs": [],
   "source": [
    "from nltk import bigrams, trigrams, ngrams \n",
    "\n",
    "list(bigrams(setencas))\n",
    "\n",
    "list(trigrams(setencas))\n",
    "\n",
    "list(ngrams(setencas,5))"
   ]
  },
  {
   "cell_type": "code",
   "execution_count": 52,
   "metadata": {},
   "outputs": [
    {
     "name": "stderr",
     "output_type": "stream",
     "text": [
      "[nltk_data] Downloading package mac_morpho to\n",
      "[nltk_data]     C:\\Users\\DROGALESTE\\AppData\\Roaming\\nltk_data...\n",
      "[nltk_data]   Package mac_morpho is already up-to-date!\n"
     ]
    }
   ],
   "source": [
    "from nltk.corpus import mac_morpho\n",
    "from nltk.tag import UnigramTagger \n",
    "\n",
    "nltk.download('mac_morpho')\n",
    "\n",
    "setencas_treinadoras = mac_morpho.tagged_sents()\n",
    "etiq = UnigramTagger(setencas_treinadoras)"
   ]
  },
  {
   "cell_type": "code",
   "execution_count": 53,
   "metadata": {},
   "outputs": [
    {
     "name": "stdout",
     "output_type": "stream",
     "text": [
      "[('Giants', 'NPROP'), ('batem', 'V'), ('Patriots', None), ('Super', 'NPROP'), ('Bowl', 'NPROP'), ('XLII', None), ('AzarÃµes', None), ('acabam', 'VAUX'), ('invencibilidade', 'N'), ('New', 'NPROP'), ('England', 'NPROP'), ('ficam', 'V'), ('tÃ', None), ('tulo', None), ('temporada', 'N'), ('04', None), ('02', 'N'), ('2008', None), ('01h07m', None), ('Atualizado', None), ('04', None), ('02', 'N'), ('2008', None), ('09h49m', None), ('passe', 'N'), ('Eli', 'NPROP'), ('Manning', 'NPROP'), ('Plaxico', None), ('Burress', None), ('39', 'NUM'), ('segundos', 'N'), ('fim', 'N'), ('New', 'NPROP'), ('York', 'NPROP'), ('Giants', 'NPROP'), ('anotou', 'V'), ('touchdown', 'N|EST'), ('decisivo', 'ADJ'), ('derrubou', 'V'), ('favorito', 'N'), ('New', 'NPROP'), ('England', 'NPROP'), ('Patriots', None), ('17', 'NUM'), ('14', 'NUM'), ('neste', None), ('domingo', 'N'), ('Glendale', None), ('Super', 'NPROP'), ('Bowl', 'NPROP'), ('XLII', None), ('resultado', 'N'), ('maiores', 'ADJ'), ('zebras', None), ('histÃ³ria', None), ('Super', 'NPROP'), ('Bowl', 'NPROP'), ('acabou', 'VAUX'), ('temporada', 'N'), ('perfeita', 'ADJ'), ('Tom', 'NPROP'), ('Brady', 'NPROP'), ('companhia', 'N'), ('esperavam', 'V'), ('fazer', 'V'), ('histÃ³ria', None), ('levantar', 'V'), ('trofÃ', None), ('u', None), ('NFL', None), ('sofrer', 'V'), ('derrota', 'N'), ('ano', 'N'), ('vitÃ³ria', None), ('Giants', 'NPROP'), ('porÃ', None), ('m', 'N'), ('tambÃ', None), ('m', 'N'), ('ficarÃ', None), ('histÃ³ria', None), ('primeira', 'ADJ'), ('vez', 'N'), ('irmÃ', None), ('quarterbacks', None), ('triunfam', None), ('Super', 'NPROP'), ('Bowl', 'NPROP'), ('temporadas', 'N'), ('consecutivas', 'ADJ'), ('ano', 'N'), ('passado', 'PCP'), ('Peyton', None), ('Manning', 'NPROP'), ('irmÃ', None), ('Eli', 'NPROP'), ('chegou', 'V'), ('tÃ', None), ('tulo', None), ('mÃ', None), ('ximo', None), ('NFL', None), ('Indianapolis', None), ('Colts', None), ('partida', 'N'), ('Giants', 'NPROP'), ('comeÃ', None), ('aram', None), ('posse', 'N'), ('bola', 'N'), ('mostraram', 'V'), ('logo', 'ADV'), ('iriam', 'VAUX'), ('alongar', 'V'), ('mÃ', None), ('ximo', None), ('posses', 'N'), ('bola', 'N'), ('Misturando', None), ('corridas', 'N'), ('Brandon', None), ('Jacobs', 'NPROP'), ('passes', 'N'), ('curtos', 'ADJ'), ('time', 'N'), ('Nova', 'NPROP'), ('York', 'NPROP'), ('chegou', 'V'), ('Ã', None), ('red', 'N|EST'), ('zone', None), ('logo', 'ADV'), ('primeira', 'ADJ'), ('campanha', 'N'), ('avanÃ', None), ('entanto', 'KC'), ('parou', 'V'), ('linha', 'N'), ('17', 'NUM'), ('jardas', 'N'), ('Lawrence', 'NPROP'), ('Tynes', None), ('converteu', 'V'), ('field', 'N|EST'), ('goal', 'N|EST'), ('32', 'NUM'), ('jardas', 'N'), ('abrir', 'V'), ('placar', 'N'), ('Eli', 'NPROP'), ('Manning', 'NPROP'), ('companhia', 'N'), ('ficaram', 'V'), ('9m54s', None), ('bola', 'N'), ('ataque', 'N'), ('Patriots', None), ('nÃ', None), ('entrou', 'V'), ('campo', 'N'), ('frio', 'N'), ('Logo', 'ADV'), ('retorno', 'N'), ('kickoff', None), ('running', 'N|EST'), ('back', 'N|EST'), ('Laurence', 'NPROP'), ('Maroney', None), ('avanÃ', None), ('43', 'NUM'), ('jardas', 'N'), ('deixando', 'V'), ('Tom', 'NPROP'), ('Brady', 'NPROP'), ('boa', 'ADJ'), ('posiÃ', None), ('Ã', None), ('passes', 'N'), ('curtos', 'ADJ'), ('Patriots', None), ('chegaram', 'V'), ('Ã', None), ('linha', 'N'), ('17', 'NUM'), ('jardas', 'N'), ('graÃ', None), ('penalidade', None), ('interferÃªncia', None), ('passe', 'N'), ('linebacker', None), ('Antonio', 'NPROP'), ('Pierce', 'NPROP'), ('alcanÃ', None), ('aram', None), ('linha', 'N'), ('jarda', None), ('Maroney', None), ('avanÃ', None), ('chÃ', None), ('anotou', 'V'), ('primeiro', 'ADJ'), ('touchdown', 'N|EST'), ('jogo', 'N'), ('Giants', 'NPROP'), ('pareciam', 'V'), ('rumo', 'PREP|+'), ('Ã', None), ('virada', 'N'), ('campanha', 'N'), ('seguinte', 'ADJ'), ('Manning', 'NPROP'), ('achou', 'V'), ('Amani', None), ('Toomer', None), ('avanÃ', None), ('38', 'NUM'), ('jardas', 'N'), ('time', 'N'), ('Nova', 'NPROP'), ('York', 'NPROP'), ('entrou', 'V'), ('novamente', 'ADV'), ('red', 'N|EST'), ('zone', None), ('bola', 'N'), ('linha', 'N'), ('14', 'NUM'), ('jardas', 'N'), ('Patriots', None), ('Giants', 'NPROP'), ('sofreram', 'V'), ('revÃ', None), ('s', 'N'), ('Manning', 'NPROP'), ('passou', 'V'), ('Steve', 'NPROP'), ('Smith', 'NPROP'), ('soltou', 'V'), ('bola', 'N'), ('Ellis', 'NPROP'), ('Hobbs', None), ('aproveitou', 'V'), ('tomou', 'V'), ('posse', 'N'), ('Patriots', None), ('avanÃ', None), ('23', 'NUM'), ('jardas', 'N'), ('defesa', 'N'), ('Nova', 'NPROP'), ('York', 'NPROP'), ('manteve', 'V'), ('jogo', 'N'), ('equilibrado', 'PCP'), ('dois', 'NUM'), ('sacks', None), ('seguidos', 'PCP'), ('Giants', 'NPROP'), ('forÃ', None), ('aram', None), ('punt', None), ('recuperaram', None), ('bola', 'N'), ('campanha', 'N'), ('seguinte', 'ADJ'), ('provou', 'V'), ('outra', 'PROADJ'), ('decepÃ', None), ('Ã', None), ('Nova', 'NPROP'), ('York', 'NPROP'), ('time', 'N'), ('chegou', 'V'), ('Ã', None), ('linha', 'N'), ('25', 'NUM'), ('jardas', 'N'), ('Manning', 'NPROP'), ('sofreu', 'V'), ('sack', None), ('cometeu', 'V'), ('fumble', 'N|EST'), ('ataque', 'N'), ('voltou', 'V'), ('linha', 'N'), ('39', 'NUM'), ('jardas', 'N'), ('nÃ', None), ('conseguindo', 'V'), ('pontuar', None), ('vez', 'N'), ('Patriots', None), ('Ãºltima', None), ('chance', 'N'), ('marcar', 'V'), ('antes', 'ADV'), ('intervalo', 'N'), ('22', 'NUM'), ('segundos', 'N'), ('fim', 'N'), ('segundo', 'PREP'), ('perÃ', None), ('odo', None), ('Brady', 'NPROP'), ('novamente', 'ADV'), ('sacado', 'PCP'), ('Desta', 'ADV'), ('vez', 'N'), ('cometeu', 'V'), ('fumble', 'N|EST'), ('Giants', 'NPROP'), ('tomaram', 'V'), ('posse', 'N'), ('bola', 'N'), ('Manning', 'NPROP'), ('tentou', 'V'), ('passe', 'N'), ('longo', 'ADJ'), ('50', 'NUM'), ('jardas', 'N'), ('Ãºltimos', None), ('segundos', 'N'), ('nÃ', None), ('sucesso', 'N'), ('jogo', 'N'), ('continuou', 'V'), ('amarrado', 'PCP'), ('terceiro', 'ADJ'), ('quarto', 'N'), ('defesas', 'N'), ('levando', 'V'), ('melhor', 'ADJ'), ('sobre', 'PREP'), ('ataques', 'N'), ('Ãºnica', None), ('chance', 'N'), ('pontuar', None), ('perÃ', None), ('odo', None), ('Patriots', None), ('chegaram', 'V'), ('Ã', None), ('linha', 'N'), ('31', 'NUM'), ('jardas', 'N'), ('Giants', 'NPROP'), ('tÃ', None), ('cnico', None), ('Bill', 'NPROP'), ('Bellichick', None), ('porÃ', None), ('m', 'N'), ('optou', 'V'), ('quarta', 'N'), ('descida', 'N'), ('vez', 'N'), ('field', 'N|EST'), ('goal', 'N|EST'), ('Brady', 'NPROP'), ('tentou', 'V'), ('passe', 'N'), ('Jabar', None), ('Gaffney', None), ('nÃ', None), ('conseguiu', 'V'), ('completar', 'V'), ('Ãºltimo', None), ('perÃ', None), ('odo', None), ('comeÃ', None), ('arrasador', None), ('Giants', 'NPROP'), ('primeira', 'ADJ'), ('jogada', 'N'), ('Manning', 'NPROP'), ('achou', 'V'), ('tight', None), ('end', None), ('Kevin', 'NPROP'), ('Boss', None), ('incrÃ', None), ('vel', None), ('avanÃ', None), ('45', 'NUM'), ('jardas', 'N'), ('deixou', 'V'), ('time', 'N'), ('linha', 'N'), ('35', 'NUM'), ('Patriots', None), ('Outro', 'PROADJ'), ('lanÃ', None), ('amento', None), ('desta', 'PROADJ'), ('vez', 'N'), ('Steve', 'NPROP'), ('Smith', 'NPROP'), ('marcou', 'V'), ('avanÃ', None), ('atÃ', None), ('linha', 'N'), ('12', 'NUM'), ('jardas', 'N'), ('Duas', 'NUM'), ('jogadas', 'N'), ('David', 'NPROP'), ('Tyree', None), ('pegou', 'V'), ('passe', 'N'), ('cinco', 'NUM'), ('jardas', 'N'), ('end', None), ('zone', None), ('anotar', 'V'), ('touchdown', 'N|EST'), ('virar', 'V'), ('jogo', 'N'), ('hora', 'N'), ('decisÃ', None), ('ataque', 'N'), ('Patriots', None), ('voltou', 'V'), ('funcionar', 'V'), ('sÃ', None), ('rie', None), ('passes', 'N'), ('curtos', 'ADJ'), ('variados', 'PCP'), ('Brady', 'NPROP'), ('achou', 'V'), ('Wes', None), ('Welker', None), ('Randy', 'NPROP'), ('Moss', 'NPROP'), ('Kevin', 'NPROP'), ('Faulk', None), ('seguidas', 'PCP'), ('vezes', 'N'), ('atÃ', None), ('chegar', 'V'), ('Ã', None), ('red', 'N|EST'), ('zone', None), ('2m45s', None), ('fim', 'N'), ('quarterback', 'N|EST'), ('conectou', None), ('vez', 'N'), ('Moss', 'NPROP'), ('desmarcou', None), ('ficou', 'V'), ('livre', 'ADJ'), ('lateral', 'N'), ('direita', 'N'), ('end', None), ('zone', None), ('fÃ', None), ('s', 'N'), ('New', 'NPROP'), ('England', 'NPROP'), ('jÃ', None), ('comemoravam', 'V'), ('vitÃ³ria', None), ('inesperado', 'ADJ'), ('aconteceu', 'V'), ('jogada', 'N'), ('incrÃ', None), ('vel', None), ('Eli', 'NPROP'), ('Manning', 'NPROP'), ('soltou', 'V'), ('dois', 'NUM'), ('marcadores', 'N'), ('seguravam', None), ('camisa', 'N'), ('corrida', 'N'), ('lanÃ', None), ('Amani', None), ('Toomer', None), ('wide', 'N|EST'), ('receiver', None), ('bem', 'ADV'), ('marcado', 'PCP'), ('saltou', 'V'), ('conseguiu', 'V'), ('fazer', 'V'), ('recepÃ', None), ('Ã', None), ('avanÃ', None), ('32', 'NUM'), ('jardas', 'N'), ('deixando', 'V'), ('Giants', 'NPROP'), ('linha', 'N'), ('24', 'NUM'), ('New', 'NPROP'), ('England', 'NPROP'), ('Quatro', 'NUM'), ('jogadas', 'N'), ('39', 'NUM'), ('segundos', 'N'), ('fim', 'N'), ('Manning', 'NPROP'), ('achou', 'V'), ('Plaxico', None), ('Burress', None), ('end', None), ('zone', None), ('conseguir', 'V'), ('touchdown', 'N|EST'), ('tÃ', None), ('tulo', None)]\n"
     ]
    }
   ],
   "source": [
    "tags = etiq.tag(setencas)\n",
    "print(tags)"
   ]
  },
  {
   "cell_type": "markdown",
   "metadata": {},
   "source": [
    "E em relação ao valores Nones? Como precisou haver uma fase de treinamento \n",
    "houveram palavras que o etquetador não conseguiu identificar e fazer a classificação.\n",
    "\n",
    "Uma solução é pré-classificar todas as plavras do texto substantivos (N) e depois\n",
    "treinar o etiquetador normalmente. Usando o pacote DefalutTagger"
   ]
  },
  {
   "cell_type": "code",
   "execution_count": 61,
   "metadata": {},
   "outputs": [
    {
     "name": "stdout",
     "output_type": "stream",
     "text": [
      "[('Giants', 'NPROP'), ('batem', 'V'), ('os', 'ART'), ('Patriots', 'N'), ('no', 'KC'), ('Super', 'NPROP'), ('Bowl', 'NPROP'), ('XLII', 'N'), ('AzarÃµes', 'N'), ('acabam', 'VAUX'), ('com', 'PREP'), ('a', 'ART'), ('invencibilidade', 'N'), ('de', 'PREP'), ('New', 'NPROP'), ('England', 'NPROP'), ('e', 'KC'), ('ficam', 'V'), ('com', 'PREP'), ('o', 'ART'), ('tÃ', 'N'), ('tulo', 'N'), ('da', 'NPROP'), ('temporada', 'N'), ('04', 'N'), ('02', 'N'), ('2008', 'N'), ('01h07m', 'N'), ('Atualizado', 'N'), ('em', 'PREP|+'), ('04', 'N'), ('02', 'N'), ('2008', 'N'), ('09h49m', 'N'), ('Com', 'PREP'), ('um', 'ART'), ('passe', 'N'), ('de', 'PREP'), ('Eli', 'NPROP'), ('Manning', 'NPROP'), ('para', 'PREP'), ('Plaxico', 'N'), ('Burress', 'N'), ('a', 'ART'), ('39', 'NUM'), ('segundos', 'N'), ('do', 'NPROP'), ('fim', 'N'), ('o', 'ART'), ('New', 'NPROP'), ('York', 'NPROP'), ('Giants', 'NPROP'), ('anotou', 'V'), ('o', 'ART'), ('touchdown', 'N|EST'), ('decisivo', 'ADJ'), ('e', 'KC'), ('derrubou', 'V'), ('o', 'ART'), ('favorito', 'N'), ('New', 'NPROP'), ('England', 'NPROP'), ('Patriots', 'N'), ('por', 'PREP|+'), ('17', 'NUM'), ('a', 'ART'), ('14', 'NUM'), ('neste', 'N'), ('domingo', 'N'), ('em', 'PREP|+'), ('Glendale', 'N'), ('no', 'KC'), ('Super', 'NPROP'), ('Bowl', 'NPROP'), ('XLII', 'N'), ('O', 'ART'), ('resultado', 'N'), ('uma', 'ART'), ('das', 'NPROP'), ('maiores', 'ADJ'), ('zebras', 'N'), ('da', 'NPROP'), ('histÃ³ria', 'N'), ('do', 'NPROP'), ('Super', 'NPROP'), ('Bowl', 'NPROP'), ('acabou', 'VAUX'), ('com', 'PREP'), ('a', 'ART'), ('temporada', 'N'), ('perfeita', 'ADJ'), ('de', 'PREP'), ('Tom', 'NPROP'), ('Brady', 'NPROP'), ('e', 'KC'), ('companhia', 'N'), ('que', 'PRO-KS-REL'), ('esperavam', 'V'), ('fazer', 'V'), ('histÃ³ria', 'N'), ('ao', 'PREP'), ('levantar', 'V'), ('o', 'ART'), ('trofÃ', 'N'), ('u', 'N'), ('da', 'NPROP'), ('NFL', 'N'), ('sem', 'PREP'), ('sofrer', 'V'), ('uma', 'ART'), ('derrota', 'N'), ('no', 'KC'), ('ano', 'N'), ('A', 'ART'), ('vitÃ³ria', 'N'), ('dos', 'NPROP'), ('Giants', 'NPROP'), ('porÃ', 'N'), ('m', 'N'), ('tambÃ', 'N'), ('m', 'N'), ('ficarÃ', 'N'), ('para', 'PREP'), ('a', 'ART'), ('histÃ³ria', 'N'), ('Pela', 'NPROP'), ('primeira', 'ADJ'), ('vez', 'N'), ('irmÃ', 'N'), ('os', 'ART'), ('quarterbacks', 'N'), ('triunfam', 'N'), ('no', 'KC'), ('Super', 'NPROP'), ('Bowl', 'NPROP'), ('em', 'PREP|+'), ('temporadas', 'N'), ('consecutivas', 'ADJ'), ('No', 'KC'), ('ano', 'N'), ('passado', 'PCP'), ('Peyton', 'N'), ('Manning', 'NPROP'), ('irmÃ', 'N'), ('o', 'ART'), ('de', 'PREP'), ('Eli', 'NPROP'), ('chegou', 'V'), ('ao', 'PREP'), ('tÃ', 'N'), ('tulo', 'N'), ('mÃ', 'N'), ('ximo', 'N'), ('da', 'NPROP'), ('NFL', 'N'), ('pelo', 'PDEN'), ('Indianapolis', 'N'), ('Colts', 'N'), ('A', 'ART'), ('partida', 'N'), ('Os', 'ART'), ('Giants', 'NPROP'), ('comeÃ', 'N'), ('aram', 'N'), ('com', 'PREP'), ('a', 'ART'), ('posse', 'N'), ('de', 'PREP'), ('bola', 'N'), ('e', 'KC'), ('mostraram', 'V'), ('logo', 'ADV'), ('que', 'PRO-KS-REL'), ('iriam', 'VAUX'), ('alongar', 'V'), ('ao', 'PREP'), ('mÃ', 'N'), ('ximo', 'N'), ('suas', 'PROADJ'), ('posses', 'N'), ('de', 'PREP'), ('bola', 'N'), ('Misturando', 'N'), ('corridas', 'N'), ('com', 'PREP'), ('Brandon', 'N'), ('Jacobs', 'NPROP'), ('e', 'KC'), ('passes', 'N'), ('curtos', 'ADJ'), ('o', 'ART'), ('time', 'N'), ('de', 'PREP'), ('Nova', 'NPROP'), ('York', 'NPROP'), ('chegou', 'V'), ('Ã', 'N'), ('red', 'N|EST'), ('zone', 'N'), ('logo', 'ADV'), ('na', 'NPROP'), ('primeira', 'ADJ'), ('campanha', 'N'), ('O', 'ART'), ('avanÃ', 'N'), ('o', 'ART'), ('no', 'KC'), ('entanto', 'KC'), ('parou', 'V'), ('na', 'NPROP'), ('linha', 'N'), ('de', 'PREP'), ('17', 'NUM'), ('jardas', 'N'), ('e', 'KC'), ('Lawrence', 'NPROP'), ('Tynes', 'N'), ('converteu', 'V'), ('o', 'ART'), ('field', 'N|EST'), ('goal', 'N|EST'), ('de', 'PREP'), ('32', 'NUM'), ('jardas', 'N'), ('para', 'PREP'), ('abrir', 'V'), ('o', 'ART'), ('placar', 'N'), ('Eli', 'NPROP'), ('Manning', 'NPROP'), ('e', 'KC'), ('companhia', 'N'), ('ficaram', 'V'), ('9m54s', 'N'), ('com', 'PREP'), ('a', 'ART'), ('bola', 'N'), ('mas', 'KC'), ('o', 'ART'), ('ataque', 'N'), ('dos', 'NPROP'), ('Patriots', 'N'), ('nÃ', 'N'), ('o', 'ART'), ('entrou', 'V'), ('em', 'PREP|+'), ('campo', 'N'), ('frio', 'N'), ('Logo', 'ADV'), ('no', 'KC'), ('retorno', 'N'), ('do', 'NPROP'), ('kickoff', 'N'), ('o', 'ART'), ('running', 'N|EST'), ('back', 'N|EST'), ('Laurence', 'NPROP'), ('Maroney', 'N'), ('avanÃ', 'N'), ('ou', 'KC'), ('43', 'NUM'), ('jardas', 'N'), ('deixando', 'V'), ('Tom', 'NPROP'), ('Brady', 'NPROP'), ('em', 'PREP|+'), ('boa', 'ADJ'), ('posiÃ', 'N'), ('Ã', 'N'), ('o', 'ART'), ('Com', 'PREP'), ('passes', 'N'), ('curtos', 'ADJ'), ('os', 'ART'), ('Patriots', 'N'), ('chegaram', 'V'), ('Ã', 'N'), ('linha', 'N'), ('de', 'PREP'), ('17', 'NUM'), ('jardas', 'N'), ('e', 'KC'), ('graÃ', 'N'), ('as', 'ART'), ('a', 'ART'), ('uma', 'ART'), ('penalidade', 'N'), ('interferÃªncia', 'N'), ('de', 'PREP'), ('passe', 'N'), ('do', 'NPROP'), ('linebacker', 'N'), ('Antonio', 'NPROP'), ('Pierce', 'NPROP'), ('alcanÃ', 'N'), ('aram', 'N'), ('a', 'ART'), ('linha', 'N'), ('de', 'PREP'), ('uma', 'ART'), ('jarda', 'N'), ('Maroney', 'N'), ('avanÃ', 'N'), ('ou', 'KC'), ('pelo', 'PDEN'), ('chÃ', 'N'), ('o', 'ART'), ('e', 'KC'), ('anotou', 'V'), ('o', 'ART'), ('primeiro', 'ADJ'), ('touchdown', 'N|EST'), ('do', 'NPROP'), ('jogo', 'N'), ('Os', 'ART'), ('Giants', 'NPROP'), ('pareciam', 'V'), ('rumo', 'PREP|+'), ('Ã', 'N'), ('virada', 'N'), ('na', 'NPROP'), ('campanha', 'N'), ('seguinte', 'ADJ'), ('Manning', 'NPROP'), ('achou', 'V'), ('Amani', 'N'), ('Toomer', 'N'), ('para', 'PREP'), ('um', 'ART'), ('avanÃ', 'N'), ('o', 'ART'), ('de', 'PREP'), ('38', 'NUM'), ('jardas', 'N'), ('e', 'KC'), ('o', 'ART'), ('time', 'N'), ('de', 'PREP'), ('Nova', 'NPROP'), ('York', 'NPROP'), ('entrou', 'V'), ('novamente', 'ADV'), ('na', 'NPROP'), ('red', 'N|EST'), ('zone', 'N'), ('Com', 'PREP'), ('a', 'ART'), ('bola', 'N'), ('na', 'NPROP'), ('linha', 'N'), ('de', 'PREP'), ('14', 'NUM'), ('jardas', 'N'), ('dos', 'NPROP'), ('Patriots', 'N'), ('os', 'ART'), ('Giants', 'NPROP'), ('sofreram', 'V'), ('um', 'ART'), ('revÃ', 'N'), ('s', 'N'), ('Manning', 'NPROP'), ('passou', 'V'), ('para', 'PREP'), ('Steve', 'NPROP'), ('Smith', 'NPROP'), ('que', 'PRO-KS-REL'), ('soltou', 'V'), ('a', 'ART'), ('bola', 'N'), ('Ellis', 'NPROP'), ('Hobbs', 'N'), ('aproveitou', 'V'), ('tomou', 'V'), ('a', 'ART'), ('posse', 'N'), ('para', 'PREP'), ('os', 'ART'), ('Patriots', 'N'), ('e', 'KC'), ('avanÃ', 'N'), ('ou', 'KC'), ('23', 'NUM'), ('jardas', 'N'), ('A', 'ART'), ('defesa', 'N'), ('de', 'PREP'), ('Nova', 'NPROP'), ('York', 'NPROP'), ('manteve', 'V'), ('o', 'ART'), ('jogo', 'N'), ('equilibrado', 'PCP'), ('Com', 'PREP'), ('dois', 'NUM'), ('sacks', 'N'), ('seguidos', 'PCP'), ('os', 'ART'), ('Giants', 'NPROP'), ('forÃ', 'N'), ('aram', 'N'), ('o', 'ART'), ('punt', 'N'), ('e', 'KC'), ('recuperaram', 'N'), ('a', 'ART'), ('bola', 'N'), ('Mas', 'KC'), ('a', 'ART'), ('campanha', 'N'), ('seguinte', 'ADJ'), ('provou', 'V'), ('ser', 'VAUX'), ('outra', 'PROADJ'), ('decepÃ', 'N'), ('Ã', 'N'), ('o', 'ART'), ('para', 'PREP'), ('Nova', 'NPROP'), ('York', 'NPROP'), ('O', 'ART'), ('time', 'N'), ('chegou', 'V'), ('Ã', 'N'), ('linha', 'N'), ('de', 'PREP'), ('25', 'NUM'), ('jardas', 'N'), ('mas', 'KC'), ('Manning', 'NPROP'), ('sofreu', 'V'), ('um', 'ART'), ('sack', 'N'), ('e', 'KC'), ('cometeu', 'V'), ('um', 'ART'), ('fumble', 'N|EST'), ('e', 'KC'), ('o', 'ART'), ('ataque', 'N'), ('voltou', 'V'), ('para', 'PREP'), ('a', 'ART'), ('linha', 'N'), ('de', 'PREP'), ('39', 'NUM'), ('jardas', 'N'), ('nÃ', 'N'), ('o', 'ART'), ('conseguindo', 'V'), ('pontuar', 'N'), ('mais', 'ADV'), ('uma', 'ART'), ('vez', 'N'), ('Os', 'ART'), ('Patriots', 'N'), ('tiveram', 'V'), ('uma', 'ART'), ('Ãºltima', 'N'), ('chance', 'N'), ('de', 'PREP'), ('marcar', 'V'), ('antes', 'ADV'), ('do', 'NPROP'), ('intervalo', 'N'), ('mas', 'KC'), ('a', 'ART'), ('22', 'NUM'), ('segundos', 'N'), ('do', 'NPROP'), ('fim', 'N'), ('do', 'NPROP'), ('segundo', 'PREP'), ('perÃ', 'N'), ('odo', 'N'), ('Brady', 'NPROP'), ('foi', 'VAUX'), ('novamente', 'ADV'), ('sacado', 'PCP'), ('Desta', 'ADV'), ('vez', 'N'), ('ele', 'PROPESS'), ('cometeu', 'V'), ('o', 'ART'), ('fumble', 'N|EST'), ('e', 'KC'), ('os', 'ART'), ('Giants', 'NPROP'), ('tomaram', 'V'), ('a', 'ART'), ('posse', 'N'), ('de', 'PREP'), ('bola', 'N'), ('Manning', 'NPROP'), ('tentou', 'V'), ('um', 'ART'), ('passe', 'N'), ('longo', 'ADJ'), ('de', 'PREP'), ('50', 'NUM'), ('jardas', 'N'), ('nos', 'PROPESS'), ('Ãºltimos', 'N'), ('segundos', 'N'), ('mas', 'KC'), ('nÃ', 'N'), ('o', 'ART'), ('teve', 'V'), ('sucesso', 'N'), ('O', 'ART'), ('jogo', 'N'), ('continuou', 'V'), ('amarrado', 'PCP'), ('no', 'KC'), ('terceiro', 'ADJ'), ('quarto', 'N'), ('com', 'PREP'), ('as', 'ART'), ('defesas', 'N'), ('levando', 'V'), ('a', 'ART'), ('melhor', 'ADJ'), ('sobre', 'PREP'), ('os', 'ART'), ('ataques', 'N'), ('A', 'ART'), ('Ãºnica', 'N'), ('chance', 'N'), ('de', 'PREP'), ('pontuar', 'N'), ('do', 'NPROP'), ('perÃ', 'N'), ('odo', 'N'), ('foi', 'VAUX'), ('dos', 'NPROP'), ('Patriots', 'N'), ('que', 'PRO-KS-REL'), ('chegaram', 'V'), ('Ã', 'N'), ('linha', 'N'), ('de', 'PREP'), ('31', 'NUM'), ('jardas', 'N'), ('dos', 'NPROP'), ('Giants', 'NPROP'), ('O', 'ART'), ('tÃ', 'N'), ('cnico', 'N'), ('Bill', 'NPROP'), ('Bellichick', 'N'), ('porÃ', 'N'), ('m', 'N'), ('optou', 'V'), ('por', 'PREP|+'), ('uma', 'ART'), ('quarta', 'N'), ('descida', 'N'), ('em', 'PREP|+'), ('vez', 'N'), ('de', 'PREP'), ('um', 'ART'), ('field', 'N|EST'), ('goal', 'N|EST'), ('Brady', 'NPROP'), ('tentou', 'V'), ('um', 'ART'), ('passe', 'N'), ('para', 'PREP'), ('Jabar', 'N'), ('Gaffney', 'N'), ('mas', 'KC'), ('nÃ', 'N'), ('o', 'ART'), ('conseguiu', 'V'), ('completar', 'V'), ('O', 'ART'), ('Ãºltimo', 'N'), ('perÃ', 'N'), ('odo', 'N'), ('comeÃ', 'N'), ('ou', 'KC'), ('arrasador', 'N'), ('para', 'PREP'), ('os', 'ART'), ('Giants', 'NPROP'), ('na', 'NPROP'), ('primeira', 'ADJ'), ('jogada', 'N'), ('Manning', 'NPROP'), ('achou', 'V'), ('o', 'ART'), ('tight', 'N'), ('end', 'N'), ('Kevin', 'NPROP'), ('Boss', 'N'), ('para', 'PREP'), ('um', 'ART'), ('incrÃ', 'N'), ('vel', 'N'), ('avanÃ', 'N'), ('o', 'ART'), ('de', 'PREP'), ('45', 'NUM'), ('jardas', 'N'), ('que', 'PRO-KS-REL'), ('deixou', 'V'), ('o', 'ART'), ('time', 'N'), ('na', 'NPROP'), ('linha', 'N'), ('de', 'PREP'), ('35', 'NUM'), ('dos', 'NPROP'), ('Patriots', 'N'), ('Outro', 'PROADJ'), ('lanÃ', 'N'), ('amento', 'N'), ('desta', 'PROADJ'), ('vez', 'N'), ('para', 'PREP'), ('Steve', 'NPROP'), ('Smith', 'NPROP'), ('marcou', 'V'), ('o', 'ART'), ('avanÃ', 'N'), ('o', 'ART'), ('atÃ', 'N'), ('a', 'ART'), ('linha', 'N'), ('de', 'PREP'), ('12', 'NUM'), ('jardas', 'N'), ('Duas', 'NUM'), ('jogadas', 'N'), ('depois', 'ADV'), ('David', 'NPROP'), ('Tyree', 'N'), ('pegou', 'V'), ('um', 'ART'), ('passe', 'N'), ('de', 'PREP'), ('cinco', 'NUM'), ('jardas', 'N'), ('na', 'NPROP'), ('end', 'N'), ('zone', 'N'), ('para', 'PREP'), ('anotar', 'V'), ('o', 'ART'), ('touchdown', 'N|EST'), ('e', 'KC'), ('virar', 'V'), ('o', 'ART'), ('jogo', 'N'), ('Na', 'NPROP'), ('hora', 'N'), ('da', 'NPROP'), ('decisÃ', 'N'), ('o', 'ART'), ('o', 'ART'), ('ataque', 'N'), ('dos', 'NPROP'), ('Patriots', 'N'), ('voltou', 'V'), ('a', 'ART'), ('funcionar', 'V'), ('Com', 'PREP'), ('uma', 'ART'), ('sÃ', 'N'), ('rie', 'N'), ('de', 'PREP'), ('passes', 'N'), ('curtos', 'ADJ'), ('e', 'KC'), ('variados', 'PCP'), ('Brady', 'NPROP'), ('achou', 'V'), ('Wes', 'N'), ('Welker', 'N'), ('Randy', 'NPROP'), ('Moss', 'NPROP'), ('e', 'KC'), ('Kevin', 'NPROP'), ('Faulk', 'N'), ('seguidas', 'PCP'), ('vezes', 'N'), ('atÃ', 'N'), ('chegar', 'V'), ('Ã', 'N'), ('red', 'N|EST'), ('zone', 'N'), ('A', 'ART'), ('2m45s', 'N'), ('do', 'NPROP'), ('fim', 'N'), ('o', 'ART'), ('quarterback', 'N|EST'), ('conectou', 'N'), ('mais', 'ADV'), ('uma', 'ART'), ('vez', 'N'), ('com', 'PREP'), ('Moss', 'NPROP'), ('que', 'PRO-KS-REL'), ('se', 'PROPESS'), ('desmarcou', 'N'), ('e', 'KC'), ('ficou', 'V'), ('livre', 'ADJ'), ('na', 'NPROP'), ('lateral', 'N'), ('direita', 'N'), ('da', 'NPROP'), ('end', 'N'), ('zone', 'N'), ('Quando', 'KS'), ('os', 'ART'), ('fÃ', 'N'), ('s', 'N'), ('de', 'PREP'), ('New', 'NPROP'), ('England', 'NPROP'), ('jÃ', 'N'), ('comemoravam', 'V'), ('a', 'ART'), ('vitÃ³ria', 'N'), ('o', 'ART'), ('inesperado', 'ADJ'), ('aconteceu', 'V'), ('Em', 'PREP|+'), ('uma', 'ART'), ('jogada', 'N'), ('incrÃ', 'N'), ('vel', 'N'), ('Eli', 'NPROP'), ('Manning', 'NPROP'), ('se', 'PROPESS'), ('soltou', 'V'), ('de', 'PREP'), ('dois', 'NUM'), ('marcadores', 'N'), ('que', 'PRO-KS-REL'), ('o', 'ART'), ('seguravam', 'N'), ('pela', 'NPROP'), ('camisa', 'N'), ('e', 'KC'), ('na', 'NPROP'), ('corrida', 'N'), ('lanÃ', 'N'), ('ou', 'KC'), ('para', 'PREP'), ('Amani', 'N'), ('Toomer', 'N'), ('O', 'ART'), ('wide', 'N|EST'), ('receiver', 'N'), ('bem', 'ADV'), ('marcado', 'PCP'), ('saltou', 'V'), ('e', 'KC'), ('conseguiu', 'V'), ('a', 'ART'), ('fazer', 'V'), ('recepÃ', 'N'), ('Ã', 'N'), ('o', 'ART'), ('para', 'PREP'), ('um', 'ART'), ('avanÃ', 'N'), ('o', 'ART'), ('de', 'PREP'), ('32', 'NUM'), ('jardas', 'N'), ('deixando', 'V'), ('os', 'ART'), ('Giants', 'NPROP'), ('na', 'NPROP'), ('linha', 'N'), ('de', 'PREP'), ('24', 'NUM'), ('de', 'PREP'), ('New', 'NPROP'), ('England', 'NPROP'), ('Quatro', 'NUM'), ('jogadas', 'N'), ('depois', 'ADV'), ('a', 'ART'), ('39', 'NUM'), ('segundos', 'N'), ('do', 'NPROP'), ('fim', 'N'), ('Manning', 'NPROP'), ('achou', 'V'), ('Plaxico', 'N'), ('Burress', 'N'), ('na', 'NPROP'), ('end', 'N'), ('zone', 'N'), ('para', 'PREP'), ('conseguir', 'V'), ('o', 'ART'), ('touchdown', 'N|EST'), ('do', 'NPROP'), ('tÃ', 'N'), ('tulo', 'N')]\n"
     ]
    }
   ],
   "source": [
    "from nltk.corpus import mac_morpho \n",
    "from nltk.tag import DefaultTagger, UnigramTagger\n",
    "\n",
    "\n",
    "etiq_padrao = DefaultTagger('N')\n",
    "setencas_treinadoras = mac_morpho.tagged_sents()\n",
    "etiq = UnigramTagger(setencas_treinadoras, backoff = etiq_padrao)\n",
    "tags = etiq.tag(tokens)\n",
    "print(tags)"
   ]
  },
  {
   "cell_type": "code",
   "execution_count": null,
   "metadata": {},
   "outputs": [],
   "source": [
    "from nltk.chunk import RegexpParser\n",
    "pattern = 'NP: {<NPROP><NPROP>|<N><N>}'\n",
    "analise_gramatical = RegexpParser(pattern)\n",
    "arvore = analise_gramatical.parse(tags)\n",
    "print(arvore)\n",
    "arvore.draw()"
   ]
  }
 ],
 "metadata": {
  "kernelspec": {
   "display_name": "Python 3",
   "language": "python",
   "name": "python3"
  },
  "language_info": {
   "codemirror_mode": {
    "name": "ipython",
    "version": 3
   },
   "file_extension": ".py",
   "mimetype": "text/x-python",
   "name": "python",
   "nbconvert_exporter": "python",
   "pygments_lexer": "ipython3",
   "version": "3.11.2"
  }
 },
 "nbformat": 4,
 "nbformat_minor": 2
}
