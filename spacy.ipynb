{
 "cells": [
  {
   "cell_type": "code",
   "execution_count": 4,
   "metadata": {},
   "outputs": [],
   "source": [
    "import spacy \n",
    "arquivo = open('corpus', 'r').read()\n",
    "nlp = spacy.load('pt_core_news_sm')\n",
    "doc = nlp(arquivo)"
   ]
  },
  {
   "cell_type": "code",
   "execution_count": null,
   "metadata": {},
   "outputs": [],
   "source": [
    "# SpaCy tokenização\n",
    "doc\n",
    "tokens = [token.orth_ for token in doc] #Para retornar a lista com os tokesn pasta usar list comprehession \n",
    "                                        #Junto do método orth_ onde ele ira retornar uma lista com as strs\n",
    "tokens"
   ]
  },
  {
   "cell_type": "code",
   "execution_count": null,
   "metadata": {},
   "outputs": [],
   "source": [
    "# Retornos com diferentes tipos de tokens\n",
    "# somente as palavras is_alpha \n",
    "# somente os numeros is_numeric \n",
    "# somente as pontuações is_pucnt\n",
    "\n",
    "tokens_palavras = [token.orth_ for token in doc if token.is_alpha]\n",
    "tokens_numeros = [token.orth_ for token in doc if token.is_digit]\n",
    "tokens_pontuaces = [token.orth_ for token in doc if token.is_punct]\n"
   ]
  },
  {
   "cell_type": "code",
   "execution_count": 18,
   "metadata": {},
   "outputs": [
    {
     "data": {
      "text/plain": [
       "['começar', 'mostrar', 'alogar']"
      ]
     },
     "execution_count": 18,
     "metadata": {},
     "output_type": "execute_result"
    }
   ],
   "source": [
    "# O spaCy tem um lematizador para o português \n",
    "# lematizar é simples basta usar o atrivuto lemma_\n",
    "\n",
    "texto = 'Os Giants começaram com a posse de bola, e mostraram logo que iriam alogar ao máximo suas posses de bola;'\n",
    "doc_texto = nlp(texto)\n",
    "lemmas = [token.lemma_ for token in doc_texto if token.pos_ == 'VERB']\n",
    "lemmas"
   ]
  },
  {
   "cell_type": "markdown",
   "metadata": {},
   "source": [
    "É importante observar que foi utilizado um outro atributo que ainda não falamos: o pos_\n",
    "\n",
    "Esse atributo é referente ao Part-Of-Speech, ou simplesmente, a classe gramatical do token.\n",
    "\n",
    "Vale ressaltar que a lematização geralmente remete à forma canônica da palavra para os verbos, então é necessária essa condição.\n",
    "\n",
    "Ok, mas como e obtida essa classe gramatical? É simpoles assim basta chamar o atributo\n",
    "pos_ no token e assim é retornada a classe gramatical refrente"
   ]
  }
 ],
 "metadata": {
  "kernelspec": {
   "display_name": "Python 3",
   "language": "python",
   "name": "python3"
  },
  "language_info": {
   "codemirror_mode": {
    "name": "ipython",
    "version": 3
   },
   "file_extension": ".py",
   "mimetype": "text/x-python",
   "name": "python",
   "nbconvert_exporter": "python",
   "pygments_lexer": "ipython3",
   "version": "3.11.2"
  }
 },
 "nbformat": 4,
 "nbformat_minor": 2
}
