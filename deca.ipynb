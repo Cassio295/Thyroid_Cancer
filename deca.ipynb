{
 "cells": [
  {
   "cell_type": "code",
   "execution_count": 1,
   "metadata": {},
   "outputs": [],
   "source": [
    "import pandas as pd \n",
    "import requests"
   ]
  },
  {
   "cell_type": "code",
   "execution_count": 2,
   "metadata": {},
   "outputs": [],
   "source": [
    "from bitrix24 import Bitrix24\n",
    "bx24 = Bitrix24('https://b24-da84sm.bitrix24.com.br/rest/163/7vn3yt69x1bw13gk')\n",
    "response =  bx24.callMethod('user.get')\n"
   ]
  },
  {
   "cell_type": "code",
   "execution_count": 3,
   "metadata": {},
   "outputs": [],
   "source": [
    "usuarios = pd.DataFrame(response)\n",
    "usuarios = usuarios[['ID', 'NAME', 'ACTIVE','LAST_NAME','DATE_REGISTER', 'UF_DEPARTMENT']]\n"
   ]
  },
  {
   "cell_type": "code",
   "execution_count": 4,
   "metadata": {},
   "outputs": [],
   "source": [
    "usuarios = usuarios.explode('UF_DEPARTMENT')\n",
    "usuarios.columns = ['ID', 'NAME', 'ACTIVE','LAST_NAME','DATE_REGISTER', 'DEPARTAMENTO_BITRIX']\n"
   ]
  },
  {
   "cell_type": "code",
   "execution_count": 5,
   "metadata": {},
   "outputs": [],
   "source": [
    "mapa = {\n",
    "15:     222,\n",
    "17:     222,\n",
    "19:     222,\n",
    "59:     222,\n",
    "224:    222,\n",
    "234:    222,\n",
    "222:    222,\n",
    "51:     51,\n",
    "29:     51,\n",
    "86:     51,\n",
    "88:     51,\n",
    "33  :   254,\n",
    "37  :   254,\n",
    "220 :   254,\n",
    "226 :   254,\n",
    "258 :   258,\n",
    "31  :   258,\n",
    "43  :   258,\n",
    "240 :   258,\n",
    "256:    256,\n",
    "3   :   256,\n",
    "270 :   256,\n",
    "268 :   256,\n",
    "272 :   256,\n",
    "240\t:\t258,\n",
    "246\t:\t258,\n",
    "252\t:\t258,\n",
    "242\t:\t258,\n",
    "248\t:\t258,\n",
    "244\t:\t258,\n",
    "250\t:\t258,\n",
    "31\t:\t258,\n",
    "43\t:\t258,\n",
    "35  :   35,\n",
    "21  :   21,\n",
    "236\t:   236,\n",
    "260\t:   236,\n",
    "274\t:   236,\n",
    "262 :   262,\n",
    "74  :\t262,\n",
    "57  :\t262,\n",
    "254\t:\t254,\n",
    "226\t:\t254,\n",
    "33\t:\t254,\n",
    "280\t:\t254,\n",
    "278:    254,\n",
    "7\t:   7,\n",
    "264\t:   7,\n",
    "298 :   7,\n",
    "238\t:   7,\n",
    "158\t:   158,\n",
    "1:      1,\n",
    "76\t:   1,\n",
    "78\t:   76,\n",
    "80\t:   76,\n",
    "258\t: 1,\n",
    "220\t: 254,\n",
    "266\t: 258,\n",
    "240\t: 258\n",
    "}"
   ]
  },
  {
   "cell_type": "code",
   "execution_count": 6,
   "metadata": {},
   "outputs": [],
   "source": [
    "usuarios['DEPARTAMENTO'] = usuarios['DEPARTAMENTO_BITRIX'].map(mapa)"
   ]
  },
  {
   "cell_type": "code",
   "execution_count": 7,
   "metadata": {},
   "outputs": [],
   "source": [
    "usuarios = usuarios.drop_duplicates(subset= ['ID', 'NAME'],keep = 'first')"
   ]
  },
  {
   "cell_type": "code",
   "execution_count": 8,
   "metadata": {},
   "outputs": [],
   "source": [
    "ativo = {\n",
    "    True: 'sim',\n",
    "    False: 'não'\n",
    "}\n",
    "\n",
    "usuarios['ativo'] = usuarios['ACTIVE'].map(ativo)"
   ]
  },
  {
   "cell_type": "code",
   "execution_count": 9,
   "metadata": {},
   "outputs": [
    {
     "name": "stdout",
     "output_type": "stream",
     "text": [
      "<class 'pandas.core.frame.DataFrame'>\n",
      "Index: 452 entries, 0 to 451\n",
      "Data columns (total 8 columns):\n",
      " #   Column               Non-Null Count  Dtype  \n",
      "---  ------               --------------  -----  \n",
      " 0   ID                   452 non-null    object \n",
      " 1   NAME                 450 non-null    object \n",
      " 2   ACTIVE               452 non-null    bool   \n",
      " 3   LAST_NAME            450 non-null    object \n",
      " 4   DATE_REGISTER        452 non-null    object \n",
      " 5   DEPARTAMENTO_BITRIX  452 non-null    object \n",
      " 6   DEPARTAMENTO         451 non-null    float64\n",
      " 7   ativo                452 non-null    object \n",
      "dtypes: bool(1), float64(1), object(6)\n",
      "memory usage: 28.7+ KB\n"
     ]
    }
   ],
   "source": [
    "# usuarios = usuarios.drop('ACTIVE', axis=1)\n",
    "usuarios.info()"
   ]
  },
  {
   "cell_type": "code",
   "execution_count": 10,
   "metadata": {},
   "outputs": [
    {
     "data": {
      "text/plain": [
       "190"
      ]
     },
     "execution_count": 10,
     "metadata": {},
     "output_type": "execute_result"
    }
   ],
   "source": [
    "from sqlalchemy import Column, Integer, DATETIME, create_engine, Table, select, MetaData, URL, and_\n",
    "from datetime import datetime, timedelta\n",
    "from sqlalchemy.orm import sessionmaker, declarative_base\n",
    "\n",
    "server_name = r'suportedl.no-ip.org\\nero'\n",
    "database_name = 'BILLS'\n",
    "user ='CASSIO'\n",
    "password = '@BLADE1212'\n",
    "drive = 'ODBC Driver 17 For SQL Server'\n",
    "\n",
    "connection_string = f\"DRIVER={drive};SERVER={server_name};DATABASE={database_name};UID={user};PWD={password}\"\n",
    "connection_url = URL.create(\"mssql+pyodbc\", query={\"odbc_connect\": connection_string})\n",
    "\n",
    "engine = create_engine(connection_url)\n",
    "\n",
    "usuarios.to_sql('COLABORADORES', con=engine, if_exists='append', index= False)\n"
   ]
  }
 ],
 "metadata": {
  "kernelspec": {
   "display_name": "Python 3",
   "language": "python",
   "name": "python3"
  },
  "language_info": {
   "codemirror_mode": {
    "name": "ipython",
    "version": 3
   },
   "file_extension": ".py",
   "mimetype": "text/x-python",
   "name": "python",
   "nbconvert_exporter": "python",
   "pygments_lexer": "ipython3",
   "version": "3.11.2"
  }
 },
 "nbformat": 4,
 "nbformat_minor": 2
}
