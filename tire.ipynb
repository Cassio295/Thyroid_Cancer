{
 "cells": [
  {
   "cell_type": "code",
   "execution_count": 15,
   "metadata": {},
   "outputs": [],
   "source": [
    "import pandas as pd \n",
    "import numpy as np \n",
    "from sklearn.model_selection import train_test_split\n",
    "from sklearn.linear_model import LogisticRegression\n",
    "from sklearn.naive_bayes import GaussianNB\n",
    "from sklearn.preprocessing import StandardScaler, OneHotEncoder, LabelEncoder\n",
    "from sklearn.ensemble import RandomForestClassifier\n",
    "import plotly.express as px"
   ]
  },
  {
   "cell_type": "code",
   "execution_count": null,
   "metadata": {},
   "outputs": [],
   "source": [
    "data = pd.read_csv('Thyroid_Diff.csv', sep = ',')\n"
   ]
  },
  {
   "cell_type": "code",
   "execution_count": 14,
   "metadata": {},
   "outputs": [
    {
     "data": {
      "text/html": [
       "<div>\n",
       "<style scoped>\n",
       "    .dataframe tbody tr th:only-of-type {\n",
       "        vertical-align: middle;\n",
       "    }\n",
       "\n",
       "    .dataframe tbody tr th {\n",
       "        vertical-align: top;\n",
       "    }\n",
       "\n",
       "    .dataframe thead th {\n",
       "        text-align: right;\n",
       "    }\n",
       "</style>\n",
       "<table border=\"1\" class=\"dataframe\">\n",
       "  <thead>\n",
       "    <tr style=\"text-align: right;\">\n",
       "      <th></th>\n",
       "      <th>Age</th>\n",
       "      <th>Gender</th>\n",
       "      <th>Smoking</th>\n",
       "      <th>Hx Smoking</th>\n",
       "      <th>Hx Radiothreapy</th>\n",
       "      <th>Thyroid Function</th>\n",
       "      <th>Physical Examination</th>\n",
       "      <th>Adenopathy</th>\n",
       "      <th>Pathology</th>\n",
       "      <th>Focality</th>\n",
       "      <th>Risk</th>\n",
       "      <th>T</th>\n",
       "      <th>N</th>\n",
       "      <th>M</th>\n",
       "      <th>Stage</th>\n",
       "      <th>Response</th>\n",
       "      <th>Recurred</th>\n",
       "    </tr>\n",
       "  </thead>\n",
       "  <tbody>\n",
       "    <tr>\n",
       "      <th>0</th>\n",
       "      <td>27</td>\n",
       "      <td>F</td>\n",
       "      <td>No</td>\n",
       "      <td>No</td>\n",
       "      <td>No</td>\n",
       "      <td>Euthyroid</td>\n",
       "      <td>Single nodular goiter-left</td>\n",
       "      <td>No</td>\n",
       "      <td>Micropapillary</td>\n",
       "      <td>Uni-Focal</td>\n",
       "      <td>Low</td>\n",
       "      <td>T1a</td>\n",
       "      <td>N0</td>\n",
       "      <td>M0</td>\n",
       "      <td>I</td>\n",
       "      <td>Indeterminate</td>\n",
       "      <td>No</td>\n",
       "    </tr>\n",
       "    <tr>\n",
       "      <th>1</th>\n",
       "      <td>34</td>\n",
       "      <td>F</td>\n",
       "      <td>No</td>\n",
       "      <td>Yes</td>\n",
       "      <td>No</td>\n",
       "      <td>Euthyroid</td>\n",
       "      <td>Multinodular goiter</td>\n",
       "      <td>No</td>\n",
       "      <td>Micropapillary</td>\n",
       "      <td>Uni-Focal</td>\n",
       "      <td>Low</td>\n",
       "      <td>T1a</td>\n",
       "      <td>N0</td>\n",
       "      <td>M0</td>\n",
       "      <td>I</td>\n",
       "      <td>Excellent</td>\n",
       "      <td>No</td>\n",
       "    </tr>\n",
       "    <tr>\n",
       "      <th>2</th>\n",
       "      <td>30</td>\n",
       "      <td>F</td>\n",
       "      <td>No</td>\n",
       "      <td>No</td>\n",
       "      <td>No</td>\n",
       "      <td>Euthyroid</td>\n",
       "      <td>Single nodular goiter-right</td>\n",
       "      <td>No</td>\n",
       "      <td>Micropapillary</td>\n",
       "      <td>Uni-Focal</td>\n",
       "      <td>Low</td>\n",
       "      <td>T1a</td>\n",
       "      <td>N0</td>\n",
       "      <td>M0</td>\n",
       "      <td>I</td>\n",
       "      <td>Excellent</td>\n",
       "      <td>No</td>\n",
       "    </tr>\n",
       "    <tr>\n",
       "      <th>3</th>\n",
       "      <td>62</td>\n",
       "      <td>F</td>\n",
       "      <td>No</td>\n",
       "      <td>No</td>\n",
       "      <td>No</td>\n",
       "      <td>Euthyroid</td>\n",
       "      <td>Single nodular goiter-right</td>\n",
       "      <td>No</td>\n",
       "      <td>Micropapillary</td>\n",
       "      <td>Uni-Focal</td>\n",
       "      <td>Low</td>\n",
       "      <td>T1a</td>\n",
       "      <td>N0</td>\n",
       "      <td>M0</td>\n",
       "      <td>I</td>\n",
       "      <td>Excellent</td>\n",
       "      <td>No</td>\n",
       "    </tr>\n",
       "    <tr>\n",
       "      <th>4</th>\n",
       "      <td>62</td>\n",
       "      <td>F</td>\n",
       "      <td>No</td>\n",
       "      <td>No</td>\n",
       "      <td>No</td>\n",
       "      <td>Euthyroid</td>\n",
       "      <td>Multinodular goiter</td>\n",
       "      <td>No</td>\n",
       "      <td>Micropapillary</td>\n",
       "      <td>Multi-Focal</td>\n",
       "      <td>Low</td>\n",
       "      <td>T1a</td>\n",
       "      <td>N0</td>\n",
       "      <td>M0</td>\n",
       "      <td>I</td>\n",
       "      <td>Excellent</td>\n",
       "      <td>No</td>\n",
       "    </tr>\n",
       "    <tr>\n",
       "      <th>...</th>\n",
       "      <td>...</td>\n",
       "      <td>...</td>\n",
       "      <td>...</td>\n",
       "      <td>...</td>\n",
       "      <td>...</td>\n",
       "      <td>...</td>\n",
       "      <td>...</td>\n",
       "      <td>...</td>\n",
       "      <td>...</td>\n",
       "      <td>...</td>\n",
       "      <td>...</td>\n",
       "      <td>...</td>\n",
       "      <td>...</td>\n",
       "      <td>...</td>\n",
       "      <td>...</td>\n",
       "      <td>...</td>\n",
       "      <td>...</td>\n",
       "    </tr>\n",
       "    <tr>\n",
       "      <th>378</th>\n",
       "      <td>72</td>\n",
       "      <td>M</td>\n",
       "      <td>Yes</td>\n",
       "      <td>Yes</td>\n",
       "      <td>Yes</td>\n",
       "      <td>Euthyroid</td>\n",
       "      <td>Single nodular goiter-right</td>\n",
       "      <td>Right</td>\n",
       "      <td>Papillary</td>\n",
       "      <td>Uni-Focal</td>\n",
       "      <td>High</td>\n",
       "      <td>T4b</td>\n",
       "      <td>N1b</td>\n",
       "      <td>M1</td>\n",
       "      <td>IVB</td>\n",
       "      <td>Biochemical Incomplete</td>\n",
       "      <td>Yes</td>\n",
       "    </tr>\n",
       "    <tr>\n",
       "      <th>379</th>\n",
       "      <td>81</td>\n",
       "      <td>M</td>\n",
       "      <td>Yes</td>\n",
       "      <td>No</td>\n",
       "      <td>Yes</td>\n",
       "      <td>Euthyroid</td>\n",
       "      <td>Multinodular goiter</td>\n",
       "      <td>Extensive</td>\n",
       "      <td>Papillary</td>\n",
       "      <td>Multi-Focal</td>\n",
       "      <td>High</td>\n",
       "      <td>T4b</td>\n",
       "      <td>N1b</td>\n",
       "      <td>M1</td>\n",
       "      <td>IVB</td>\n",
       "      <td>Structural Incomplete</td>\n",
       "      <td>Yes</td>\n",
       "    </tr>\n",
       "    <tr>\n",
       "      <th>380</th>\n",
       "      <td>72</td>\n",
       "      <td>M</td>\n",
       "      <td>Yes</td>\n",
       "      <td>Yes</td>\n",
       "      <td>No</td>\n",
       "      <td>Euthyroid</td>\n",
       "      <td>Multinodular goiter</td>\n",
       "      <td>Bilateral</td>\n",
       "      <td>Papillary</td>\n",
       "      <td>Multi-Focal</td>\n",
       "      <td>High</td>\n",
       "      <td>T4b</td>\n",
       "      <td>N1b</td>\n",
       "      <td>M1</td>\n",
       "      <td>IVB</td>\n",
       "      <td>Structural Incomplete</td>\n",
       "      <td>Yes</td>\n",
       "    </tr>\n",
       "    <tr>\n",
       "      <th>381</th>\n",
       "      <td>61</td>\n",
       "      <td>M</td>\n",
       "      <td>Yes</td>\n",
       "      <td>Yes</td>\n",
       "      <td>Yes</td>\n",
       "      <td>Clinical Hyperthyroidism</td>\n",
       "      <td>Multinodular goiter</td>\n",
       "      <td>Extensive</td>\n",
       "      <td>Hurthel cell</td>\n",
       "      <td>Multi-Focal</td>\n",
       "      <td>High</td>\n",
       "      <td>T4b</td>\n",
       "      <td>N1b</td>\n",
       "      <td>M0</td>\n",
       "      <td>IVA</td>\n",
       "      <td>Structural Incomplete</td>\n",
       "      <td>Yes</td>\n",
       "    </tr>\n",
       "    <tr>\n",
       "      <th>382</th>\n",
       "      <td>67</td>\n",
       "      <td>M</td>\n",
       "      <td>Yes</td>\n",
       "      <td>No</td>\n",
       "      <td>No</td>\n",
       "      <td>Euthyroid</td>\n",
       "      <td>Multinodular goiter</td>\n",
       "      <td>Bilateral</td>\n",
       "      <td>Papillary</td>\n",
       "      <td>Multi-Focal</td>\n",
       "      <td>High</td>\n",
       "      <td>T4b</td>\n",
       "      <td>N1b</td>\n",
       "      <td>M0</td>\n",
       "      <td>IVA</td>\n",
       "      <td>Structural Incomplete</td>\n",
       "      <td>Yes</td>\n",
       "    </tr>\n",
       "  </tbody>\n",
       "</table>\n",
       "<p>383 rows × 17 columns</p>\n",
       "</div>"
      ],
      "text/plain": [
       "     Age Gender Smoking Hx Smoking Hx Radiothreapy          Thyroid Function  \\\n",
       "0     27      F      No         No              No                 Euthyroid   \n",
       "1     34      F      No        Yes              No                 Euthyroid   \n",
       "2     30      F      No         No              No                 Euthyroid   \n",
       "3     62      F      No         No              No                 Euthyroid   \n",
       "4     62      F      No         No              No                 Euthyroid   \n",
       "..   ...    ...     ...        ...             ...                       ...   \n",
       "378   72      M     Yes        Yes             Yes                 Euthyroid   \n",
       "379   81      M     Yes         No             Yes                 Euthyroid   \n",
       "380   72      M     Yes        Yes              No                 Euthyroid   \n",
       "381   61      M     Yes        Yes             Yes  Clinical Hyperthyroidism   \n",
       "382   67      M     Yes         No              No                 Euthyroid   \n",
       "\n",
       "            Physical Examination Adenopathy       Pathology     Focality  \\\n",
       "0     Single nodular goiter-left         No  Micropapillary    Uni-Focal   \n",
       "1            Multinodular goiter         No  Micropapillary    Uni-Focal   \n",
       "2    Single nodular goiter-right         No  Micropapillary    Uni-Focal   \n",
       "3    Single nodular goiter-right         No  Micropapillary    Uni-Focal   \n",
       "4            Multinodular goiter         No  Micropapillary  Multi-Focal   \n",
       "..                           ...        ...             ...          ...   \n",
       "378  Single nodular goiter-right      Right       Papillary    Uni-Focal   \n",
       "379          Multinodular goiter  Extensive       Papillary  Multi-Focal   \n",
       "380          Multinodular goiter  Bilateral       Papillary  Multi-Focal   \n",
       "381          Multinodular goiter  Extensive    Hurthel cell  Multi-Focal   \n",
       "382          Multinodular goiter  Bilateral       Papillary  Multi-Focal   \n",
       "\n",
       "     Risk    T    N   M Stage                Response Recurred  \n",
       "0     Low  T1a   N0  M0     I           Indeterminate       No  \n",
       "1     Low  T1a   N0  M0     I               Excellent       No  \n",
       "2     Low  T1a   N0  M0     I               Excellent       No  \n",
       "3     Low  T1a   N0  M0     I               Excellent       No  \n",
       "4     Low  T1a   N0  M0     I               Excellent       No  \n",
       "..    ...  ...  ...  ..   ...                     ...      ...  \n",
       "378  High  T4b  N1b  M1   IVB  Biochemical Incomplete      Yes  \n",
       "379  High  T4b  N1b  M1   IVB   Structural Incomplete      Yes  \n",
       "380  High  T4b  N1b  M1   IVB   Structural Incomplete      Yes  \n",
       "381  High  T4b  N1b  M0   IVA   Structural Incomplete      Yes  \n",
       "382  High  T4b  N1b  M0   IVA   Structural Incomplete      Yes  \n",
       "\n",
       "[383 rows x 17 columns]"
      ]
     },
     "execution_count": 14,
     "metadata": {},
     "output_type": "execute_result"
    }
   ],
   "source": [
    "data"
   ]
  },
  {
   "cell_type": "code",
   "execution_count": 16,
   "metadata": {},
   "outputs": [
    {
     "data": {
      "text/plain": [
       "Index(['Age', 'Gender', 'Smoking', 'Hx Smoking', 'Hx Radiothreapy',\n",
       "       'Thyroid Function', 'Physical Examination', 'Adenopathy', 'Pathology',\n",
       "       'Focality', 'Risk', 'T', 'N', 'M', 'Stage', 'Response', 'Recurred'],\n",
       "      dtype='object')"
      ]
     },
     "execution_count": 16,
     "metadata": {},
     "output_type": "execute_result"
    }
   ],
   "source": [
    "data.columns"
   ]
  },
  {
   "cell_type": "code",
   "execution_count": 71,
   "metadata": {},
   "outputs": [
    {
     "data": {
      "application/vnd.plotly.v1+json": {
       "config": {
        "plotlyServerURL": "https://plot.ly"
       },
       "data": [
        {
         "alignmentgroup": "True",
         "customdata": [
          [
           "No"
          ],
          [
           "No"
          ],
          [
           "No"
          ],
          [
           "No"
          ],
          [
           "No"
          ],
          [
           "No"
          ],
          [
           "No"
          ],
          [
           "No"
          ],
          [
           "No"
          ],
          [
           "No"
          ],
          [
           "No"
          ],
          [
           "No"
          ],
          [
           "No"
          ],
          [
           "No"
          ],
          [
           "No"
          ],
          [
           "No"
          ],
          [
           "No"
          ],
          [
           "No"
          ],
          [
           "No"
          ],
          [
           "No"
          ],
          [
           "No"
          ],
          [
           "No"
          ],
          [
           "No"
          ],
          [
           "No"
          ],
          [
           "No"
          ],
          [
           "No"
          ],
          [
           "No"
          ],
          [
           "No"
          ],
          [
           "No"
          ],
          [
           "No"
          ],
          [
           "No"
          ],
          [
           "No"
          ],
          [
           "No"
          ],
          [
           "No"
          ],
          [
           "No"
          ],
          [
           "No"
          ],
          [
           "No"
          ],
          [
           "No"
          ],
          [
           "No"
          ],
          [
           "No"
          ],
          [
           "No"
          ],
          [
           "No"
          ],
          [
           "No"
          ],
          [
           "No"
          ],
          [
           "No"
          ],
          [
           "No"
          ],
          [
           "No"
          ],
          [
           "No"
          ],
          [
           "No"
          ],
          [
           "No"
          ],
          [
           "No"
          ],
          [
           "No"
          ],
          [
           "No"
          ],
          [
           "No"
          ],
          [
           "No"
          ],
          [
           "No"
          ],
          [
           "No"
          ],
          [
           "No"
          ],
          [
           "No"
          ],
          [
           "No"
          ],
          [
           "No"
          ],
          [
           "No"
          ],
          [
           "No"
          ],
          [
           "No"
          ],
          [
           "No"
          ],
          [
           "No"
          ],
          [
           "No"
          ],
          [
           "No"
          ],
          [
           "No"
          ],
          [
           "No"
          ],
          [
           "No"
          ],
          [
           "No"
          ],
          [
           "No"
          ],
          [
           "No"
          ],
          [
           "No"
          ],
          [
           "No"
          ],
          [
           "No"
          ],
          [
           "No"
          ],
          [
           "No"
          ],
          [
           "No"
          ],
          [
           "No"
          ],
          [
           "No"
          ],
          [
           "No"
          ],
          [
           "No"
          ],
          [
           "No"
          ],
          [
           "No"
          ],
          [
           "No"
          ],
          [
           "No"
          ],
          [
           "No"
          ],
          [
           "No"
          ],
          [
           "No"
          ],
          [
           "No"
          ],
          [
           "No"
          ],
          [
           "No"
          ],
          [
           "No"
          ],
          [
           "No"
          ],
          [
           "No"
          ],
          [
           "No"
          ],
          [
           "No"
          ],
          [
           "No"
          ],
          [
           "No"
          ],
          [
           "No"
          ],
          [
           "No"
          ],
          [
           "No"
          ],
          [
           "No"
          ],
          [
           "No"
          ],
          [
           "No"
          ],
          [
           "No"
          ],
          [
           "No"
          ],
          [
           "No"
          ],
          [
           "No"
          ],
          [
           "No"
          ],
          [
           "No"
          ],
          [
           "No"
          ],
          [
           "No"
          ],
          [
           "No"
          ],
          [
           "No"
          ],
          [
           "No"
          ],
          [
           "No"
          ],
          [
           "No"
          ],
          [
           "No"
          ],
          [
           "No"
          ],
          [
           "No"
          ],
          [
           "No"
          ],
          [
           "No"
          ],
          [
           "No"
          ],
          [
           "No"
          ],
          [
           "No"
          ],
          [
           "No"
          ],
          [
           "No"
          ],
          [
           "No"
          ],
          [
           "No"
          ],
          [
           "No"
          ],
          [
           "No"
          ],
          [
           "No"
          ],
          [
           "No"
          ],
          [
           "No"
          ],
          [
           "No"
          ],
          [
           "No"
          ],
          [
           "No"
          ],
          [
           "No"
          ],
          [
           "No"
          ],
          [
           "No"
          ],
          [
           "No"
          ],
          [
           "No"
          ],
          [
           "No"
          ],
          [
           "No"
          ],
          [
           "No"
          ],
          [
           "No"
          ],
          [
           "No"
          ],
          [
           "No"
          ],
          [
           "No"
          ],
          [
           "No"
          ],
          [
           "No"
          ],
          [
           "No"
          ],
          [
           "No"
          ],
          [
           "No"
          ],
          [
           "No"
          ],
          [
           "No"
          ],
          [
           "No"
          ],
          [
           "No"
          ],
          [
           "No"
          ],
          [
           "No"
          ],
          [
           "No"
          ],
          [
           "No"
          ],
          [
           "No"
          ],
          [
           "No"
          ],
          [
           "No"
          ],
          [
           "No"
          ],
          [
           "No"
          ],
          [
           "No"
          ],
          [
           "No"
          ],
          [
           "No"
          ],
          [
           "No"
          ],
          [
           "No"
          ],
          [
           "No"
          ],
          [
           "No"
          ],
          [
           "No"
          ],
          [
           "No"
          ],
          [
           "No"
          ],
          [
           "No"
          ],
          [
           "No"
          ],
          [
           "No"
          ],
          [
           "No"
          ],
          [
           "No"
          ],
          [
           "No"
          ],
          [
           "No"
          ],
          [
           "No"
          ],
          [
           "No"
          ],
          [
           "No"
          ],
          [
           "No"
          ],
          [
           "No"
          ],
          [
           "No"
          ],
          [
           "No"
          ],
          [
           "No"
          ],
          [
           "No"
          ],
          [
           "No"
          ],
          [
           "No"
          ],
          [
           "No"
          ],
          [
           "No"
          ],
          [
           "No"
          ],
          [
           "No"
          ],
          [
           "No"
          ],
          [
           "No"
          ],
          [
           "No"
          ],
          [
           "No"
          ],
          [
           "No"
          ],
          [
           "No"
          ],
          [
           "No"
          ],
          [
           "No"
          ],
          [
           "No"
          ],
          [
           "No"
          ],
          [
           "No"
          ],
          [
           "No"
          ],
          [
           "No"
          ],
          [
           "No"
          ],
          [
           "No"
          ],
          [
           "No"
          ],
          [
           "No"
          ],
          [
           "No"
          ],
          [
           "No"
          ],
          [
           "No"
          ],
          [
           "No"
          ],
          [
           "No"
          ],
          [
           "No"
          ],
          [
           "No"
          ],
          [
           "No"
          ],
          [
           "No"
          ],
          [
           "No"
          ],
          [
           "No"
          ],
          [
           "No"
          ],
          [
           "No"
          ],
          [
           "No"
          ],
          [
           "No"
          ],
          [
           "No"
          ],
          [
           "No"
          ],
          [
           "No"
          ],
          [
           "No"
          ],
          [
           "No"
          ],
          [
           "No"
          ],
          [
           "No"
          ],
          [
           "No"
          ],
          [
           "No"
          ],
          [
           "No"
          ],
          [
           "No"
          ],
          [
           "No"
          ],
          [
           "No"
          ],
          [
           "No"
          ],
          [
           "No"
          ],
          [
           "No"
          ],
          [
           "No"
          ],
          [
           "No"
          ],
          [
           "No"
          ],
          [
           "No"
          ],
          [
           "No"
          ],
          [
           "No"
          ],
          [
           "No"
          ],
          [
           "No"
          ],
          [
           "No"
          ],
          [
           "No"
          ],
          [
           "No"
          ],
          [
           "No"
          ],
          [
           "No"
          ],
          [
           "No"
          ],
          [
           "No"
          ],
          [
           "No"
          ],
          [
           "No"
          ],
          [
           "No"
          ],
          [
           "No"
          ],
          [
           "No"
          ],
          [
           "No"
          ],
          [
           "No"
          ],
          [
           "No"
          ],
          [
           "No"
          ],
          [
           "No"
          ]
         ],
         "hovertemplate": "Recurred=%{customdata[0]}<br>Idade=%{x}<br>Patologia=%{y}<extra></extra>",
         "legendgroup": "No",
         "marker": {
          "color": "#636efa",
          "pattern": {
           "shape": ""
          }
         },
         "name": "No",
         "offsetgroup": "No",
         "orientation": "h",
         "showlegend": true,
         "textposition": "auto",
         "type": "bar",
         "x": [
          27,
          34,
          30,
          62,
          62,
          52,
          41,
          46,
          51,
          40,
          75,
          59,
          49,
          50,
          76,
          42,
          40,
          44,
          43,
          52,
          41,
          44,
          36,
          70,
          60,
          33,
          43,
          26,
          41,
          37,
          37,
          30,
          36,
          55,
          52,
          37,
          31,
          43,
          40,
          34,
          51,
          45,
          20,
          38,
          38,
          33,
          31,
          31,
          29,
          43,
          30,
          25,
          27,
          25,
          21,
          43,
          23,
          23,
          43,
          24,
          35,
          54,
          54,
          22,
          38,
          35,
          51,
          22,
          51,
          40,
          69,
          31,
          29,
          30,
          28,
          22,
          29,
          35,
          50,
          27,
          17,
          27,
          40,
          33,
          25,
          73,
          62,
          39,
          37,
          26,
          31,
          24,
          57,
          28,
          44,
          42,
          27,
          51,
          33,
          42,
          26,
          24,
          60,
          60,
          31,
          66,
          44,
          32,
          26,
          37,
          33,
          23,
          47,
          28,
          37,
          26,
          28,
          28,
          44,
          31,
          27,
          56,
          63,
          24,
          30,
          31,
          32,
          28,
          51,
          20,
          21,
          32,
          26,
          42,
          28,
          41,
          42,
          49,
          29,
          29,
          25,
          41,
          33,
          27,
          50,
          19,
          35,
          63,
          24,
          36,
          31,
          24,
          33,
          24,
          28,
          22,
          27,
          28,
          29,
          40,
          31,
          55,
          21,
          40,
          38,
          21,
          31,
          30,
          50,
          34,
          45,
          52,
          38,
          67,
          72,
          45,
          45,
          26,
          67,
          56,
          30,
          34,
          50,
          42,
          35,
          23,
          44,
          23,
          26,
          61,
          22,
          31,
          68,
          57,
          27,
          25,
          20,
          33,
          36,
          36,
          40,
          17,
          24,
          38,
          28,
          36,
          50,
          51,
          55,
          31,
          33,
          28,
          48,
          40,
          29,
          20,
          35,
          52,
          35,
          34,
          32,
          27,
          52,
          46,
          30,
          32,
          25,
          38,
          31,
          37,
          21,
          34,
          30,
          48,
          31,
          52,
          38,
          41,
          41,
          70,
          19,
          41,
          32,
          35,
          39,
          45,
          46,
          45,
          28,
          31,
          81,
          41,
          56,
          47,
          37,
          32,
          53,
          30,
          34,
          62,
          58,
          55,
          21,
          27,
          46,
          44,
          29,
          26,
          42,
          56,
          51,
          61,
          48,
          42,
          32
         ],
         "xaxis": "x",
         "y": [
          "Micropapillary",
          "Micropapillary",
          "Micropapillary",
          "Micropapillary",
          "Micropapillary",
          "Micropapillary",
          "Micropapillary",
          "Micropapillary",
          "Micropapillary",
          "Micropapillary",
          "Micropapillary",
          "Micropapillary",
          "Micropapillary",
          "Micropapillary",
          "Micropapillary",
          "Micropapillary",
          "Micropapillary",
          "Micropapillary",
          "Micropapillary",
          "Micropapillary",
          "Micropapillary",
          "Micropapillary",
          "Micropapillary",
          "Micropapillary",
          "Micropapillary",
          "Micropapillary",
          "Micropapillary",
          "Micropapillary",
          "Micropapillary",
          "Micropapillary",
          "Micropapillary",
          "Micropapillary",
          "Micropapillary",
          "Micropapillary",
          "Micropapillary",
          "Micropapillary",
          "Micropapillary",
          "Micropapillary",
          "Micropapillary",
          "Micropapillary",
          "Micropapillary",
          "Micropapillary",
          "Micropapillary",
          "Micropapillary",
          "Micropapillary",
          "Micropapillary",
          "Micropapillary",
          "Papillary",
          "Follicular",
          "Micropapillary",
          "Papillary",
          "Papillary",
          "Papillary",
          "Papillary",
          "Papillary",
          "Papillary",
          "Papillary",
          "Papillary",
          "Papillary",
          "Papillary",
          "Papillary",
          "Papillary",
          "Papillary",
          "Papillary",
          "Papillary",
          "Papillary",
          "Papillary",
          "Papillary",
          "Papillary",
          "Papillary",
          "Papillary",
          "Papillary",
          "Papillary",
          "Papillary",
          "Papillary",
          "Papillary",
          "Papillary",
          "Papillary",
          "Papillary",
          "Papillary",
          "Papillary",
          "Papillary",
          "Papillary",
          "Papillary",
          "Papillary",
          "Papillary",
          "Hurthel cell",
          "Hurthel cell",
          "Hurthel cell",
          "Hurthel cell",
          "Hurthel cell",
          "Follicular",
          "Follicular",
          "Follicular",
          "Follicular",
          "Follicular",
          "Follicular",
          "Papillary",
          "Papillary",
          "Papillary",
          "Papillary",
          "Papillary",
          "Papillary",
          "Papillary",
          "Papillary",
          "Papillary",
          "Papillary",
          "Papillary",
          "Papillary",
          "Papillary",
          "Papillary",
          "Papillary",
          "Papillary",
          "Papillary",
          "Papillary",
          "Papillary",
          "Papillary",
          "Papillary",
          "Papillary",
          "Papillary",
          "Papillary",
          "Papillary",
          "Papillary",
          "Papillary",
          "Papillary",
          "Papillary",
          "Papillary",
          "Papillary",
          "Papillary",
          "Papillary",
          "Papillary",
          "Papillary",
          "Papillary",
          "Papillary",
          "Papillary",
          "Papillary",
          "Papillary",
          "Papillary",
          "Papillary",
          "Papillary",
          "Papillary",
          "Papillary",
          "Papillary",
          "Papillary",
          "Papillary",
          "Papillary",
          "Papillary",
          "Papillary",
          "Papillary",
          "Papillary",
          "Papillary",
          "Papillary",
          "Papillary",
          "Papillary",
          "Papillary",
          "Papillary",
          "Papillary",
          "Papillary",
          "Papillary",
          "Papillary",
          "Papillary",
          "Papillary",
          "Papillary",
          "Papillary",
          "Papillary",
          "Papillary",
          "Papillary",
          "Papillary",
          "Papillary",
          "Papillary",
          "Papillary",
          "Papillary",
          "Papillary",
          "Papillary",
          "Papillary",
          "Papillary",
          "Papillary",
          "Papillary",
          "Papillary",
          "Papillary",
          "Papillary",
          "Papillary",
          "Papillary",
          "Papillary",
          "Papillary",
          "Papillary",
          "Papillary",
          "Papillary",
          "Papillary",
          "Papillary",
          "Papillary",
          "Papillary",
          "Papillary",
          "Papillary",
          "Papillary",
          "Papillary",
          "Papillary",
          "Papillary",
          "Papillary",
          "Papillary",
          "Papillary",
          "Papillary",
          "Papillary",
          "Papillary",
          "Papillary",
          "Papillary",
          "Papillary",
          "Papillary",
          "Papillary",
          "Papillary",
          "Papillary",
          "Papillary",
          "Papillary",
          "Papillary",
          "Papillary",
          "Papillary",
          "Papillary",
          "Follicular",
          "Papillary",
          "Papillary",
          "Hurthel cell",
          "Hurthel cell",
          "Hurthel cell",
          "Hurthel cell",
          "Follicular",
          "Follicular",
          "Follicular",
          "Follicular",
          "Follicular",
          "Papillary",
          "Papillary",
          "Papillary",
          "Papillary",
          "Papillary",
          "Papillary",
          "Papillary",
          "Papillary",
          "Papillary",
          "Papillary",
          "Papillary",
          "Papillary",
          "Papillary",
          "Papillary",
          "Papillary",
          "Papillary",
          "Papillary",
          "Papillary",
          "Papillary",
          "Papillary",
          "Papillary",
          "Papillary",
          "Hurthel cell",
          "Hurthel cell",
          "Follicular",
          "Follicular",
          "Papillary",
          "Papillary",
          "Papillary",
          "Papillary",
          "Hurthel cell",
          "Follicular",
          "Papillary",
          "Papillary",
          "Papillary",
          "Papillary",
          "Papillary",
          "Papillary",
          "Papillary",
          "Papillary",
          "Papillary",
          "Hurthel cell",
          "Papillary",
          "Hurthel cell",
          "Papillary",
          "Papillary"
         ],
         "yaxis": "y"
        },
        {
         "alignmentgroup": "True",
         "customdata": [
          [
           "Yes"
          ],
          [
           "Yes"
          ],
          [
           "Yes"
          ],
          [
           "Yes"
          ],
          [
           "Yes"
          ],
          [
           "Yes"
          ],
          [
           "Yes"
          ],
          [
           "Yes"
          ],
          [
           "Yes"
          ],
          [
           "Yes"
          ],
          [
           "Yes"
          ],
          [
           "Yes"
          ],
          [
           "Yes"
          ],
          [
           "Yes"
          ],
          [
           "Yes"
          ],
          [
           "Yes"
          ],
          [
           "Yes"
          ],
          [
           "Yes"
          ],
          [
           "Yes"
          ],
          [
           "Yes"
          ],
          [
           "Yes"
          ],
          [
           "Yes"
          ],
          [
           "Yes"
          ],
          [
           "Yes"
          ],
          [
           "Yes"
          ],
          [
           "Yes"
          ],
          [
           "Yes"
          ],
          [
           "Yes"
          ],
          [
           "Yes"
          ],
          [
           "Yes"
          ],
          [
           "Yes"
          ],
          [
           "Yes"
          ],
          [
           "Yes"
          ],
          [
           "Yes"
          ],
          [
           "Yes"
          ],
          [
           "Yes"
          ],
          [
           "Yes"
          ],
          [
           "Yes"
          ],
          [
           "Yes"
          ],
          [
           "Yes"
          ],
          [
           "Yes"
          ],
          [
           "Yes"
          ],
          [
           "Yes"
          ],
          [
           "Yes"
          ],
          [
           "Yes"
          ],
          [
           "Yes"
          ],
          [
           "Yes"
          ],
          [
           "Yes"
          ],
          [
           "Yes"
          ],
          [
           "Yes"
          ],
          [
           "Yes"
          ],
          [
           "Yes"
          ],
          [
           "Yes"
          ],
          [
           "Yes"
          ],
          [
           "Yes"
          ],
          [
           "Yes"
          ],
          [
           "Yes"
          ],
          [
           "Yes"
          ],
          [
           "Yes"
          ],
          [
           "Yes"
          ],
          [
           "Yes"
          ],
          [
           "Yes"
          ],
          [
           "Yes"
          ],
          [
           "Yes"
          ],
          [
           "Yes"
          ],
          [
           "Yes"
          ],
          [
           "Yes"
          ],
          [
           "Yes"
          ],
          [
           "Yes"
          ],
          [
           "Yes"
          ],
          [
           "Yes"
          ],
          [
           "Yes"
          ],
          [
           "Yes"
          ],
          [
           "Yes"
          ],
          [
           "Yes"
          ],
          [
           "Yes"
          ],
          [
           "Yes"
          ],
          [
           "Yes"
          ],
          [
           "Yes"
          ],
          [
           "Yes"
          ],
          [
           "Yes"
          ],
          [
           "Yes"
          ],
          [
           "Yes"
          ],
          [
           "Yes"
          ],
          [
           "Yes"
          ],
          [
           "Yes"
          ],
          [
           "Yes"
          ],
          [
           "Yes"
          ],
          [
           "Yes"
          ],
          [
           "Yes"
          ],
          [
           "Yes"
          ],
          [
           "Yes"
          ],
          [
           "Yes"
          ],
          [
           "Yes"
          ],
          [
           "Yes"
          ],
          [
           "Yes"
          ],
          [
           "Yes"
          ],
          [
           "Yes"
          ],
          [
           "Yes"
          ],
          [
           "Yes"
          ],
          [
           "Yes"
          ],
          [
           "Yes"
          ],
          [
           "Yes"
          ],
          [
           "Yes"
          ],
          [
           "Yes"
          ],
          [
           "Yes"
          ],
          [
           "Yes"
          ],
          [
           "Yes"
          ]
         ],
         "hovertemplate": "Recurred=%{customdata[0]}<br>Idade=%{x}<br>Patologia=%{y}<extra></extra>",
         "legendgroup": "Yes",
         "marker": {
          "color": "#EF553B",
          "pattern": {
           "shape": ""
          }
         },
         "name": "Yes",
         "offsetgroup": "Yes",
         "orientation": "h",
         "showlegend": true,
         "textposition": "auto",
         "type": "bar",
         "x": [
          26,
          36,
          35,
          31,
          18,
          62,
          56,
          20,
          62,
          17,
          21,
          20,
          40,
          38,
          21,
          31,
          34,
          60,
          60,
          62,
          36,
          29,
          33,
          75,
          62,
          56,
          42,
          34,
          67,
          63,
          67,
          73,
          26,
          30,
          36,
          31,
          40,
          49,
          38,
          27,
          27,
          33,
          32,
          29,
          37,
          48,
          30,
          33,
          80,
          62,
          63,
          60,
          79,
          65,
          35,
          58,
          34,
          56,
          52,
          51,
          31,
          44,
          15,
          29,
          53,
          45,
          38,
          23,
          22,
          44,
          31,
          25,
          32,
          82,
          58,
          68,
          37,
          59,
          21,
          73,
          35,
          54,
          26,
          53,
          35,
          49,
          34,
          80,
          67,
          68,
          71,
          64,
          80,
          56,
          71,
          78,
          51,
          67,
          31,
          62,
          59,
          40,
          46,
          72,
          81,
          72,
          61,
          67
         ],
         "xaxis": "x",
         "y": [
          "Papillary",
          "Papillary",
          "Papillary",
          "Papillary",
          "Papillary",
          "Follicular",
          "Papillary",
          "Papillary",
          "Papillary",
          "Papillary",
          "Papillary",
          "Papillary",
          "Papillary",
          "Papillary",
          "Papillary",
          "Papillary",
          "Papillary",
          "Papillary",
          "Papillary",
          "Papillary",
          "Papillary",
          "Follicular",
          "Papillary",
          "Follicular",
          "Papillary",
          "Papillary",
          "Papillary",
          "Papillary",
          "Hurthel cell",
          "Follicular",
          "Papillary",
          "Papillary",
          "Papillary",
          "Papillary",
          "Papillary",
          "Papillary",
          "Papillary",
          "Papillary",
          "Papillary",
          "Papillary",
          "Papillary",
          "Papillary",
          "Papillary",
          "Papillary",
          "Papillary",
          "Papillary",
          "Papillary",
          "Papillary",
          "Papillary",
          "Papillary",
          "Papillary",
          "Papillary",
          "Papillary",
          "Papillary",
          "Papillary",
          "Papillary",
          "Papillary",
          "Follicular",
          "Follicular",
          "Follicular",
          "Follicular",
          "Papillary",
          "Papillary",
          "Papillary",
          "Papillary",
          "Papillary",
          "Papillary",
          "Papillary",
          "Papillary",
          "Papillary",
          "Papillary",
          "Papillary",
          "Papillary",
          "Papillary",
          "Papillary",
          "Papillary",
          "Papillary",
          "Hurthel cell",
          "Papillary",
          "Papillary",
          "Papillary",
          "Hurthel cell",
          "Hurthel cell",
          "Papillary",
          "Papillary",
          "Papillary",
          "Papillary",
          "Papillary",
          "Papillary",
          "Papillary",
          "Follicular",
          "Follicular",
          "Hurthel cell",
          "Papillary",
          "Papillary",
          "Follicular",
          "Papillary",
          "Papillary",
          "Papillary",
          "Papillary",
          "Papillary",
          "Papillary",
          "Follicular",
          "Papillary",
          "Papillary",
          "Papillary",
          "Hurthel cell",
          "Papillary"
         ],
         "yaxis": "y"
        }
       ],
       "layout": {
        "barmode": "relative",
        "height": 400,
        "legend": {
         "title": {
          "text": "Recurred"
         },
         "tracegroupgap": 0
        },
        "template": {
         "data": {
          "bar": [
           {
            "error_x": {
             "color": "#2a3f5f"
            },
            "error_y": {
             "color": "#2a3f5f"
            },
            "marker": {
             "line": {
              "color": "#E5ECF6",
              "width": 0.5
             },
             "pattern": {
              "fillmode": "overlay",
              "size": 10,
              "solidity": 0.2
             }
            },
            "type": "bar"
           }
          ],
          "barpolar": [
           {
            "marker": {
             "line": {
              "color": "#E5ECF6",
              "width": 0.5
             },
             "pattern": {
              "fillmode": "overlay",
              "size": 10,
              "solidity": 0.2
             }
            },
            "type": "barpolar"
           }
          ],
          "carpet": [
           {
            "aaxis": {
             "endlinecolor": "#2a3f5f",
             "gridcolor": "white",
             "linecolor": "white",
             "minorgridcolor": "white",
             "startlinecolor": "#2a3f5f"
            },
            "baxis": {
             "endlinecolor": "#2a3f5f",
             "gridcolor": "white",
             "linecolor": "white",
             "minorgridcolor": "white",
             "startlinecolor": "#2a3f5f"
            },
            "type": "carpet"
           }
          ],
          "choropleth": [
           {
            "colorbar": {
             "outlinewidth": 0,
             "ticks": ""
            },
            "type": "choropleth"
           }
          ],
          "contour": [
           {
            "colorbar": {
             "outlinewidth": 0,
             "ticks": ""
            },
            "colorscale": [
             [
              0,
              "#0d0887"
             ],
             [
              0.1111111111111111,
              "#46039f"
             ],
             [
              0.2222222222222222,
              "#7201a8"
             ],
             [
              0.3333333333333333,
              "#9c179e"
             ],
             [
              0.4444444444444444,
              "#bd3786"
             ],
             [
              0.5555555555555556,
              "#d8576b"
             ],
             [
              0.6666666666666666,
              "#ed7953"
             ],
             [
              0.7777777777777778,
              "#fb9f3a"
             ],
             [
              0.8888888888888888,
              "#fdca26"
             ],
             [
              1,
              "#f0f921"
             ]
            ],
            "type": "contour"
           }
          ],
          "contourcarpet": [
           {
            "colorbar": {
             "outlinewidth": 0,
             "ticks": ""
            },
            "type": "contourcarpet"
           }
          ],
          "heatmap": [
           {
            "colorbar": {
             "outlinewidth": 0,
             "ticks": ""
            },
            "colorscale": [
             [
              0,
              "#0d0887"
             ],
             [
              0.1111111111111111,
              "#46039f"
             ],
             [
              0.2222222222222222,
              "#7201a8"
             ],
             [
              0.3333333333333333,
              "#9c179e"
             ],
             [
              0.4444444444444444,
              "#bd3786"
             ],
             [
              0.5555555555555556,
              "#d8576b"
             ],
             [
              0.6666666666666666,
              "#ed7953"
             ],
             [
              0.7777777777777778,
              "#fb9f3a"
             ],
             [
              0.8888888888888888,
              "#fdca26"
             ],
             [
              1,
              "#f0f921"
             ]
            ],
            "type": "heatmap"
           }
          ],
          "heatmapgl": [
           {
            "colorbar": {
             "outlinewidth": 0,
             "ticks": ""
            },
            "colorscale": [
             [
              0,
              "#0d0887"
             ],
             [
              0.1111111111111111,
              "#46039f"
             ],
             [
              0.2222222222222222,
              "#7201a8"
             ],
             [
              0.3333333333333333,
              "#9c179e"
             ],
             [
              0.4444444444444444,
              "#bd3786"
             ],
             [
              0.5555555555555556,
              "#d8576b"
             ],
             [
              0.6666666666666666,
              "#ed7953"
             ],
             [
              0.7777777777777778,
              "#fb9f3a"
             ],
             [
              0.8888888888888888,
              "#fdca26"
             ],
             [
              1,
              "#f0f921"
             ]
            ],
            "type": "heatmapgl"
           }
          ],
          "histogram": [
           {
            "marker": {
             "pattern": {
              "fillmode": "overlay",
              "size": 10,
              "solidity": 0.2
             }
            },
            "type": "histogram"
           }
          ],
          "histogram2d": [
           {
            "colorbar": {
             "outlinewidth": 0,
             "ticks": ""
            },
            "colorscale": [
             [
              0,
              "#0d0887"
             ],
             [
              0.1111111111111111,
              "#46039f"
             ],
             [
              0.2222222222222222,
              "#7201a8"
             ],
             [
              0.3333333333333333,
              "#9c179e"
             ],
             [
              0.4444444444444444,
              "#bd3786"
             ],
             [
              0.5555555555555556,
              "#d8576b"
             ],
             [
              0.6666666666666666,
              "#ed7953"
             ],
             [
              0.7777777777777778,
              "#fb9f3a"
             ],
             [
              0.8888888888888888,
              "#fdca26"
             ],
             [
              1,
              "#f0f921"
             ]
            ],
            "type": "histogram2d"
           }
          ],
          "histogram2dcontour": [
           {
            "colorbar": {
             "outlinewidth": 0,
             "ticks": ""
            },
            "colorscale": [
             [
              0,
              "#0d0887"
             ],
             [
              0.1111111111111111,
              "#46039f"
             ],
             [
              0.2222222222222222,
              "#7201a8"
             ],
             [
              0.3333333333333333,
              "#9c179e"
             ],
             [
              0.4444444444444444,
              "#bd3786"
             ],
             [
              0.5555555555555556,
              "#d8576b"
             ],
             [
              0.6666666666666666,
              "#ed7953"
             ],
             [
              0.7777777777777778,
              "#fb9f3a"
             ],
             [
              0.8888888888888888,
              "#fdca26"
             ],
             [
              1,
              "#f0f921"
             ]
            ],
            "type": "histogram2dcontour"
           }
          ],
          "mesh3d": [
           {
            "colorbar": {
             "outlinewidth": 0,
             "ticks": ""
            },
            "type": "mesh3d"
           }
          ],
          "parcoords": [
           {
            "line": {
             "colorbar": {
              "outlinewidth": 0,
              "ticks": ""
             }
            },
            "type": "parcoords"
           }
          ],
          "pie": [
           {
            "automargin": true,
            "type": "pie"
           }
          ],
          "scatter": [
           {
            "fillpattern": {
             "fillmode": "overlay",
             "size": 10,
             "solidity": 0.2
            },
            "type": "scatter"
           }
          ],
          "scatter3d": [
           {
            "line": {
             "colorbar": {
              "outlinewidth": 0,
              "ticks": ""
             }
            },
            "marker": {
             "colorbar": {
              "outlinewidth": 0,
              "ticks": ""
             }
            },
            "type": "scatter3d"
           }
          ],
          "scattercarpet": [
           {
            "marker": {
             "colorbar": {
              "outlinewidth": 0,
              "ticks": ""
             }
            },
            "type": "scattercarpet"
           }
          ],
          "scattergeo": [
           {
            "marker": {
             "colorbar": {
              "outlinewidth": 0,
              "ticks": ""
             }
            },
            "type": "scattergeo"
           }
          ],
          "scattergl": [
           {
            "marker": {
             "colorbar": {
              "outlinewidth": 0,
              "ticks": ""
             }
            },
            "type": "scattergl"
           }
          ],
          "scattermapbox": [
           {
            "marker": {
             "colorbar": {
              "outlinewidth": 0,
              "ticks": ""
             }
            },
            "type": "scattermapbox"
           }
          ],
          "scatterpolar": [
           {
            "marker": {
             "colorbar": {
              "outlinewidth": 0,
              "ticks": ""
             }
            },
            "type": "scatterpolar"
           }
          ],
          "scatterpolargl": [
           {
            "marker": {
             "colorbar": {
              "outlinewidth": 0,
              "ticks": ""
             }
            },
            "type": "scatterpolargl"
           }
          ],
          "scatterternary": [
           {
            "marker": {
             "colorbar": {
              "outlinewidth": 0,
              "ticks": ""
             }
            },
            "type": "scatterternary"
           }
          ],
          "surface": [
           {
            "colorbar": {
             "outlinewidth": 0,
             "ticks": ""
            },
            "colorscale": [
             [
              0,
              "#0d0887"
             ],
             [
              0.1111111111111111,
              "#46039f"
             ],
             [
              0.2222222222222222,
              "#7201a8"
             ],
             [
              0.3333333333333333,
              "#9c179e"
             ],
             [
              0.4444444444444444,
              "#bd3786"
             ],
             [
              0.5555555555555556,
              "#d8576b"
             ],
             [
              0.6666666666666666,
              "#ed7953"
             ],
             [
              0.7777777777777778,
              "#fb9f3a"
             ],
             [
              0.8888888888888888,
              "#fdca26"
             ],
             [
              1,
              "#f0f921"
             ]
            ],
            "type": "surface"
           }
          ],
          "table": [
           {
            "cells": {
             "fill": {
              "color": "#EBF0F8"
             },
             "line": {
              "color": "white"
             }
            },
            "header": {
             "fill": {
              "color": "#C8D4E3"
             },
             "line": {
              "color": "white"
             }
            },
            "type": "table"
           }
          ]
         },
         "layout": {
          "annotationdefaults": {
           "arrowcolor": "#2a3f5f",
           "arrowhead": 0,
           "arrowwidth": 1
          },
          "autotypenumbers": "strict",
          "coloraxis": {
           "colorbar": {
            "outlinewidth": 0,
            "ticks": ""
           }
          },
          "colorscale": {
           "diverging": [
            [
             0,
             "#8e0152"
            ],
            [
             0.1,
             "#c51b7d"
            ],
            [
             0.2,
             "#de77ae"
            ],
            [
             0.3,
             "#f1b6da"
            ],
            [
             0.4,
             "#fde0ef"
            ],
            [
             0.5,
             "#f7f7f7"
            ],
            [
             0.6,
             "#e6f5d0"
            ],
            [
             0.7,
             "#b8e186"
            ],
            [
             0.8,
             "#7fbc41"
            ],
            [
             0.9,
             "#4d9221"
            ],
            [
             1,
             "#276419"
            ]
           ],
           "sequential": [
            [
             0,
             "#0d0887"
            ],
            [
             0.1111111111111111,
             "#46039f"
            ],
            [
             0.2222222222222222,
             "#7201a8"
            ],
            [
             0.3333333333333333,
             "#9c179e"
            ],
            [
             0.4444444444444444,
             "#bd3786"
            ],
            [
             0.5555555555555556,
             "#d8576b"
            ],
            [
             0.6666666666666666,
             "#ed7953"
            ],
            [
             0.7777777777777778,
             "#fb9f3a"
            ],
            [
             0.8888888888888888,
             "#fdca26"
            ],
            [
             1,
             "#f0f921"
            ]
           ],
           "sequentialminus": [
            [
             0,
             "#0d0887"
            ],
            [
             0.1111111111111111,
             "#46039f"
            ],
            [
             0.2222222222222222,
             "#7201a8"
            ],
            [
             0.3333333333333333,
             "#9c179e"
            ],
            [
             0.4444444444444444,
             "#bd3786"
            ],
            [
             0.5555555555555556,
             "#d8576b"
            ],
            [
             0.6666666666666666,
             "#ed7953"
            ],
            [
             0.7777777777777778,
             "#fb9f3a"
            ],
            [
             0.8888888888888888,
             "#fdca26"
            ],
            [
             1,
             "#f0f921"
            ]
           ]
          },
          "colorway": [
           "#636efa",
           "#EF553B",
           "#00cc96",
           "#ab63fa",
           "#FFA15A",
           "#19d3f3",
           "#FF6692",
           "#B6E880",
           "#FF97FF",
           "#FECB52"
          ],
          "font": {
           "color": "#2a3f5f"
          },
          "geo": {
           "bgcolor": "white",
           "lakecolor": "white",
           "landcolor": "#E5ECF6",
           "showlakes": true,
           "showland": true,
           "subunitcolor": "white"
          },
          "hoverlabel": {
           "align": "left"
          },
          "hovermode": "closest",
          "mapbox": {
           "style": "light"
          },
          "paper_bgcolor": "white",
          "plot_bgcolor": "#E5ECF6",
          "polar": {
           "angularaxis": {
            "gridcolor": "white",
            "linecolor": "white",
            "ticks": ""
           },
           "bgcolor": "#E5ECF6",
           "radialaxis": {
            "gridcolor": "white",
            "linecolor": "white",
            "ticks": ""
           }
          },
          "scene": {
           "xaxis": {
            "backgroundcolor": "#E5ECF6",
            "gridcolor": "white",
            "gridwidth": 2,
            "linecolor": "white",
            "showbackground": true,
            "ticks": "",
            "zerolinecolor": "white"
           },
           "yaxis": {
            "backgroundcolor": "#E5ECF6",
            "gridcolor": "white",
            "gridwidth": 2,
            "linecolor": "white",
            "showbackground": true,
            "ticks": "",
            "zerolinecolor": "white"
           },
           "zaxis": {
            "backgroundcolor": "#E5ECF6",
            "gridcolor": "white",
            "gridwidth": 2,
            "linecolor": "white",
            "showbackground": true,
            "ticks": "",
            "zerolinecolor": "white"
           }
          },
          "shapedefaults": {
           "line": {
            "color": "#2a3f5f"
           }
          },
          "ternary": {
           "aaxis": {
            "gridcolor": "white",
            "linecolor": "white",
            "ticks": ""
           },
           "baxis": {
            "gridcolor": "white",
            "linecolor": "white",
            "ticks": ""
           },
           "bgcolor": "#E5ECF6",
           "caxis": {
            "gridcolor": "white",
            "linecolor": "white",
            "ticks": ""
           }
          },
          "title": {
           "x": 0.05
          },
          "xaxis": {
           "automargin": true,
           "gridcolor": "white",
           "linecolor": "white",
           "ticks": "",
           "title": {
            "standoff": 15
           },
           "zerolinecolor": "white",
           "zerolinewidth": 2
          },
          "yaxis": {
           "automargin": true,
           "gridcolor": "white",
           "linecolor": "white",
           "ticks": "",
           "title": {
            "standoff": 15
           },
           "zerolinecolor": "white",
           "zerolinewidth": 2
          }
         }
        },
        "title": {
         "text": "Recuperação por patologia e Idade"
        },
        "xaxis": {
         "anchor": "y",
         "domain": [
          0,
          1
         ],
         "title": {
          "text": "Idade"
         }
        },
        "yaxis": {
         "anchor": "x",
         "domain": [
          0,
          1
         ],
         "title": {
          "text": "Patologia"
         }
        }
       }
      }
     },
     "metadata": {},
     "output_type": "display_data"
    }
   ],
   "source": [
    "\n",
    "fig = px.bar(data, x = 'Age', y = 'Pathology', color= 'Recurred', \n",
    "             hover_data=['Recurred'], height= 400, \n",
    "             title = 'Recuperação por patologia e Idade',\n",
    "             labels={'Age': 'Idade',\n",
    "                     'Pathology': 'Patologia'})\n",
    "fig.show()\n",
    "\n"
   ]
  },
  {
   "cell_type": "code",
   "execution_count": null,
   "metadata": {},
   "outputs": [],
   "source": []
  }
 ],
 "metadata": {
  "kernelspec": {
   "display_name": "Python 3",
   "language": "python",
   "name": "python3"
  },
  "language_info": {
   "codemirror_mode": {
    "name": "ipython",
    "version": 3
   },
   "file_extension": ".py",
   "mimetype": "text/x-python",
   "name": "python",
   "nbconvert_exporter": "python",
   "pygments_lexer": "ipython3",
   "version": "3.11.2"
  }
 },
 "nbformat": 4,
 "nbformat_minor": 2
}
